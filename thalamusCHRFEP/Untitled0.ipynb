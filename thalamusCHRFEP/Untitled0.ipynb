{
 "metadata": {
  "name": ""
 },
 "nbformat": 3,
 "nbformat_minor": 0,
 "worksheets": [
  {
   "cells": [
    {
     "cell_type": "code",
     "collapsed": false,
     "input": [
      "import pandas as pd"
     ],
     "language": "python",
     "metadata": {},
     "outputs": [],
     "prompt_number": 33
    },
    {
     "cell_type": "code",
     "collapsed": false,
     "input": [
      "cd ~/Dropbox/CHRvsNOR/2014_stats/"
     ],
     "language": "python",
     "metadata": {},
     "outputs": [
      {
       "output_type": "stream",
       "stream": "stdout",
       "text": [
        "/Users/admin/Dropbox/CHRvsNOR/2014_stats\n"
       ]
      }
     ],
     "prompt_number": 34
    },
    {
     "cell_type": "code",
     "collapsed": false,
     "input": [
      "ls"
     ],
     "language": "python",
     "metadata": {},
     "outputs": [
      {
       "output_type": "stream",
       "stream": "stdout",
       "text": [
        "1. Data frame \u110c\u1165\u11bc\u1105\u1175.ipynb            allData_rearranged.csv                 \u001b[31mscript\u001b[m\u001b[m*\r\n",
        "\u001b[34m37_38_22_thr10\u001b[m\u001b[m/                        connectivity_with_segmentVolume.ipynb  thalData\r\n",
        "Adjusted mean graph.ipynb              durationOfIllness.ipynb                thalData.xlsx\r\n",
        "Demographic check.ipynb                finalAllData.csv                       thalamusDataFinal.html\r\n",
        "Different denominator.ipynb            finalAllData.xls                       thalamusDataFinal.ipynb\r\n",
        "Partial correlation.ipynb              finalAllDataIndex.xls                  thalamusDataFinal.tex\r\n",
        "Summary.ipynb                          finalAllDataWithKoreanName.csv         \u001b[34mthalamusDataFinal_files\u001b[m\u001b[m/\r\n",
        "Untitled0.ipynb                        finalAllDataWithKoreanName.xls         thalamusDistribution OFC.ipynb\r\n",
        "allDataWithERP.csv                     \u001b[30m\u001b[43mlog\u001b[m\u001b[m/                                   thalamusProjectSummary.zip\r\n",
        "allDataWithERP.xlsx                    \u001b[30m\u001b[43mlog2\u001b[m\u001b[m/\r\n",
        "allDataWithFEP.csv                     nibabel.ipynb\r\n"
       ]
      }
     ],
     "prompt_number": 35
    },
    {
     "cell_type": "code",
     "collapsed": false,
     "input": [
      "df = pd.ExcelFile('finalAllDataWithKoreanName.xls')\n",
      "allDf = df.parse('allData',)"
     ],
     "language": "python",
     "metadata": {},
     "outputs": [],
     "prompt_number": 113
    },
    {
     "cell_type": "code",
     "collapsed": false,
     "input": [
      "allDf['sum']=allDf['cortexVolume']+all.ix[:,0]"
     ],
     "language": "python",
     "metadata": {},
     "outputs": [
      {
       "html": [
        "<div style=\"max-height:1000px;max-width:1500px;overflow:auto;\">\n",
        "<table border=\"1\" class=\"dataframe\">\n",
        "  <thead>\n",
        "    <tr style=\"text-align: right;\">\n",
        "      <th></th>\n",
        "      <th>subject</th>\n",
        "      <th>intracranialVolume</th>\n",
        "      <th>group</th>\n",
        "      <th>side</th>\n",
        "      <th>cortex</th>\n",
        "      <th>cortexVolume</th>\n",
        "      <th>threshold</th>\n",
        "      <th>relativeConnectivity</th>\n",
        "      <th>segmentVolume</th>\n",
        "      <th>thalamusVolume</th>\n",
        "      <th>totalConnectivity</th>\n",
        "      <th>NAME</th>\n",
        "    </tr>\n",
        "  </thead>\n",
        "  <tbody>\n",
        "    <tr>\n",
        "      <th>0</th>\n",
        "      <td> CHR02_JHJ</td>\n",
        "      <td> 1537718.75</td>\n",
        "      <td> CHR</td>\n",
        "      <td> left</td>\n",
        "      <td> LPFC</td>\n",
        "      <td> 29540</td>\n",
        "      <td> 10</td>\n",
        "      <td> 0.124762</td>\n",
        "      <td> 1640</td>\n",
        "      <td> 9348</td>\n",
        "      <td> 2607416.000540</td>\n",
        "      <td> \uc870\ud604\uc9001</td>\n",
        "    </tr>\n",
        "    <tr>\n",
        "      <th>1</th>\n",
        "      <td> CHR02_JHJ</td>\n",
        "      <td> 1537718.75</td>\n",
        "      <td> CHR</td>\n",
        "      <td> left</td>\n",
        "      <td> LPFC</td>\n",
        "      <td> 29540</td>\n",
        "      <td> 20</td>\n",
        "      <td> 0.120106</td>\n",
        "      <td> 1640</td>\n",
        "      <td> 9348</td>\n",
        "      <td> 2188751.000660</td>\n",
        "      <td> \uc870\ud604\uc9001</td>\n",
        "    </tr>\n",
        "    <tr>\n",
        "      <th>2</th>\n",
        "      <td> CHR02_JHJ</td>\n",
        "      <td> 1537718.75</td>\n",
        "      <td> CHR</td>\n",
        "      <td> left</td>\n",
        "      <td>  LTC</td>\n",
        "      <td> 43660</td>\n",
        "      <td> 10</td>\n",
        "      <td> 0.063266</td>\n",
        "      <td>  605</td>\n",
        "      <td> 9348</td>\n",
        "      <td> 1322205.001100</td>\n",
        "      <td> \uc870\ud604\uc9001</td>\n",
        "    </tr>\n",
        "    <tr>\n",
        "      <th>3</th>\n",
        "      <td> CHR02_JHJ</td>\n",
        "      <td> 1537718.75</td>\n",
        "      <td> CHR</td>\n",
        "      <td> left</td>\n",
        "      <td>  LTC</td>\n",
        "      <td> 43660</td>\n",
        "      <td> 20</td>\n",
        "      <td> 0.057479</td>\n",
        "      <td>  605</td>\n",
        "      <td> 9348</td>\n",
        "      <td> 1047463.999680</td>\n",
        "      <td> \uc870\ud604\uc9001</td>\n",
        "    </tr>\n",
        "    <tr>\n",
        "      <th>4</th>\n",
        "      <td> CHR02_JHJ</td>\n",
        "      <td> 1537718.75</td>\n",
        "      <td> CHR</td>\n",
        "      <td> left</td>\n",
        "      <td> MPFC</td>\n",
        "      <td> 29661</td>\n",
        "      <td> 10</td>\n",
        "      <td> 0.249568</td>\n",
        "      <td> 2117</td>\n",
        "      <td> 9348</td>\n",
        "      <td> 5215738.001370</td>\n",
        "      <td> \uc870\ud604\uc9001</td>\n",
        "    </tr>\n",
        "    <tr>\n",
        "      <th>5</th>\n",
        "      <td> CHR02_JHJ</td>\n",
        "      <td> 1537718.75</td>\n",
        "      <td> CHR</td>\n",
        "      <td> left</td>\n",
        "      <td> MPFC</td>\n",
        "      <td> 29661</td>\n",
        "      <td> 20</td>\n",
        "      <td> 0.247549</td>\n",
        "      <td> 2117</td>\n",
        "      <td> 9348</td>\n",
        "      <td> 4511206.999640</td>\n",
        "      <td> \uc870\ud604\uc9001</td>\n",
        "    </tr>\n",
        "    <tr>\n",
        "      <th>6</th>\n",
        "      <td> CHR02_JHJ</td>\n",
        "      <td> 1537718.75</td>\n",
        "      <td> CHR</td>\n",
        "      <td> left</td>\n",
        "      <td>  MTC</td>\n",
        "      <td> 17744</td>\n",
        "      <td> 10</td>\n",
        "      <td> 0.030172</td>\n",
        "      <td>  158</td>\n",
        "      <td> 9348</td>\n",
        "      <td>  630573.000702</td>\n",
        "      <td> \uc870\ud604\uc9001</td>\n",
        "    </tr>\n",
        "    <tr>\n",
        "      <th>7</th>\n",
        "      <td> CHR02_JHJ</td>\n",
        "      <td> 1537718.75</td>\n",
        "      <td> CHR</td>\n",
        "      <td> left</td>\n",
        "      <td>  MTC</td>\n",
        "      <td> 17744</td>\n",
        "      <td> 20</td>\n",
        "      <td> 0.029361</td>\n",
        "      <td>  158</td>\n",
        "      <td> 9348</td>\n",
        "      <td>  535058.999968</td>\n",
        "      <td> \uc870\ud604\uc9001</td>\n",
        "    </tr>\n",
        "    <tr>\n",
        "      <th>8</th>\n",
        "      <td> CHR02_JHJ</td>\n",
        "      <td> 1537718.75</td>\n",
        "      <td> CHR</td>\n",
        "      <td> left</td>\n",
        "      <td>  OCC</td>\n",
        "      <td> 26169</td>\n",
        "      <td> 10</td>\n",
        "      <td> 0.032818</td>\n",
        "      <td>  223</td>\n",
        "      <td> 9348</td>\n",
        "      <td>  685868.000500</td>\n",
        "      <td> \uc870\ud604\uc9001</td>\n",
        "    </tr>\n",
        "    <tr>\n",
        "      <th>9</th>\n",
        "      <td> CHR02_JHJ</td>\n",
        "      <td> 1537718.75</td>\n",
        "      <td> CHR</td>\n",
        "      <td> left</td>\n",
        "      <td>  OCC</td>\n",
        "      <td> 26169</td>\n",
        "      <td> 20</td>\n",
        "      <td> 0.032978</td>\n",
        "      <td>  223</td>\n",
        "      <td> 9348</td>\n",
        "      <td>  600965.999682</td>\n",
        "      <td> \uc870\ud604\uc9001</td>\n",
        "    </tr>\n",
        "  </tbody>\n",
        "</table>\n",
        "</div>"
       ],
       "metadata": {},
       "output_type": "pyout",
       "prompt_number": 172,
       "text": [
        "     subject  intracranialVolume group  side cortex  cortexVolume  threshold  \\\n",
        "0  CHR02_JHJ          1537718.75   CHR  left   LPFC         29540         10   \n",
        "1  CHR02_JHJ          1537718.75   CHR  left   LPFC         29540         20   \n",
        "2  CHR02_JHJ          1537718.75   CHR  left    LTC         43660         10   \n",
        "3  CHR02_JHJ          1537718.75   CHR  left    LTC         43660         20   \n",
        "4  CHR02_JHJ          1537718.75   CHR  left   MPFC         29661         10   \n",
        "5  CHR02_JHJ          1537718.75   CHR  left   MPFC         29661         20   \n",
        "6  CHR02_JHJ          1537718.75   CHR  left    MTC         17744         10   \n",
        "7  CHR02_JHJ          1537718.75   CHR  left    MTC         17744         20   \n",
        "8  CHR02_JHJ          1537718.75   CHR  left    OCC         26169         10   \n",
        "9  CHR02_JHJ          1537718.75   CHR  left    OCC         26169         20   \n",
        "\n",
        "   relativeConnectivity  segmentVolume  thalamusVolume  totalConnectivity  \\\n",
        "0              0.124762           1640            9348     2607416.000540   \n",
        "1              0.120106           1640            9348     2188751.000660   \n",
        "2              0.063266            605            9348     1322205.001100   \n",
        "3              0.057479            605            9348     1047463.999680   \n",
        "4              0.249568           2117            9348     5215738.001370   \n",
        "5              0.247549           2117            9348     4511206.999640   \n",
        "6              0.030172            158            9348      630573.000702   \n",
        "7              0.029361            158            9348      535058.999968   \n",
        "8              0.032818            223            9348      685868.000500   \n",
        "9              0.032978            223            9348      600965.999682   \n",
        "\n",
        "   NAME  \n",
        "0  \uc870\ud604\uc9001  \n",
        "1  \uc870\ud604\uc9001  \n",
        "2  \uc870\ud604\uc9001  \n",
        "3  \uc870\ud604\uc9001  \n",
        "4  \uc870\ud604\uc9001  \n",
        "5  \uc870\ud604\uc9001  \n",
        "6  \uc870\ud604\uc9001  \n",
        "7  \uc870\ud604\uc9001  \n",
        "8  \uc870\ud604\uc9001  \n",
        "9  \uc870\ud604\uc9001  "
       ]
      }
     ],
     "prompt_number": 172
    },
    {
     "cell_type": "code",
     "collapsed": false,
     "input": [
      "import sys\n",
      "sys.getdefaultencoding()"
     ],
     "language": "python",
     "metadata": {},
     "outputs": [
      {
       "metadata": {},
       "output_type": "pyout",
       "prompt_number": 104,
       "text": [
        "'ascii'"
       ]
      }
     ],
     "prompt_number": 104
    },
    {
     "cell_type": "code",
     "collapsed": false,
     "input": [
      "reload(sys)\n",
      "sys.setdefaultencoding('utf-8')"
     ],
     "language": "python",
     "metadata": {},
     "outputs": [],
     "prompt_number": 112
    },
    {
     "cell_type": "code",
     "collapsed": false,
     "input": [
      "allDf['NAME'][0]"
     ],
     "language": "python",
     "metadata": {},
     "outputs": [
      {
       "metadata": {},
       "output_type": "pyout",
       "prompt_number": 114,
       "text": [
        "u'\\uc870\\ud604\\uc9001'"
       ]
      }
     ],
     "prompt_number": 114
    },
    {
     "cell_type": "code",
     "collapsed": false,
     "input": [
      "type(allDf['NAME'][0])"
     ],
     "language": "python",
     "metadata": {},
     "outputs": [
      {
       "metadata": {},
       "output_type": "pyout",
       "prompt_number": 115,
       "text": [
        "unicode"
       ]
      }
     ],
     "prompt_number": 115
    },
    {
     "cell_type": "code",
     "collapsed": false,
     "input": [
      "allDf.head(4)"
     ],
     "language": "python",
     "metadata": {},
     "outputs": [
      {
       "html": [
        "<div style=\"max-height:1000px;max-width:1500px;overflow:auto;\">\n",
        "<table border=\"1\" class=\"dataframe\">\n",
        "  <thead>\n",
        "    <tr style=\"text-align: right;\">\n",
        "      <th></th>\n",
        "      <th>subject</th>\n",
        "      <th>intracranialVolume</th>\n",
        "      <th>group</th>\n",
        "      <th>side</th>\n",
        "      <th>cortex</th>\n",
        "      <th>cortexVolume</th>\n",
        "      <th>threshold</th>\n",
        "      <th>relativeConnectivity</th>\n",
        "      <th>segmentVolume</th>\n",
        "      <th>thalamusVolume</th>\n",
        "      <th>totalConnectivity</th>\n",
        "      <th>NAME</th>\n",
        "    </tr>\n",
        "  </thead>\n",
        "  <tbody>\n",
        "    <tr>\n",
        "      <th>0</th>\n",
        "      <td> CHR02_JHJ</td>\n",
        "      <td> 1537718.75</td>\n",
        "      <td> CHR</td>\n",
        "      <td> left</td>\n",
        "      <td> LPFC</td>\n",
        "      <td> 29540</td>\n",
        "      <td> 10</td>\n",
        "      <td> 0.124762</td>\n",
        "      <td> 1640</td>\n",
        "      <td> 9348</td>\n",
        "      <td> 2607416.00054</td>\n",
        "      <td> \uc870\ud604\uc9001</td>\n",
        "    </tr>\n",
        "    <tr>\n",
        "      <th>1</th>\n",
        "      <td> CHR02_JHJ</td>\n",
        "      <td> 1537718.75</td>\n",
        "      <td> CHR</td>\n",
        "      <td> left</td>\n",
        "      <td> LPFC</td>\n",
        "      <td> 29540</td>\n",
        "      <td> 20</td>\n",
        "      <td> 0.120106</td>\n",
        "      <td> 1640</td>\n",
        "      <td> 9348</td>\n",
        "      <td> 2188751.00066</td>\n",
        "      <td> \uc870\ud604\uc9001</td>\n",
        "    </tr>\n",
        "    <tr>\n",
        "      <th>2</th>\n",
        "      <td> CHR02_JHJ</td>\n",
        "      <td> 1537718.75</td>\n",
        "      <td> CHR</td>\n",
        "      <td> left</td>\n",
        "      <td>  LTC</td>\n",
        "      <td> 43660</td>\n",
        "      <td> 10</td>\n",
        "      <td> 0.063266</td>\n",
        "      <td>  605</td>\n",
        "      <td> 9348</td>\n",
        "      <td> 1322205.00110</td>\n",
        "      <td> \uc870\ud604\uc9001</td>\n",
        "    </tr>\n",
        "    <tr>\n",
        "      <th>3</th>\n",
        "      <td> CHR02_JHJ</td>\n",
        "      <td> 1537718.75</td>\n",
        "      <td> CHR</td>\n",
        "      <td> left</td>\n",
        "      <td>  LTC</td>\n",
        "      <td> 43660</td>\n",
        "      <td> 20</td>\n",
        "      <td> 0.057479</td>\n",
        "      <td>  605</td>\n",
        "      <td> 9348</td>\n",
        "      <td> 1047463.99968</td>\n",
        "      <td> \uc870\ud604\uc9001</td>\n",
        "    </tr>\n",
        "  </tbody>\n",
        "</table>\n",
        "</div>"
       ],
       "metadata": {},
       "output_type": "pyout",
       "prompt_number": 37,
       "text": [
        "     subject  intracranialVolume group  side cortex  cortexVolume  threshold  \\\n",
        "0  CHR02_JHJ          1537718.75   CHR  left   LPFC         29540         10   \n",
        "1  CHR02_JHJ          1537718.75   CHR  left   LPFC         29540         20   \n",
        "2  CHR02_JHJ          1537718.75   CHR  left    LTC         43660         10   \n",
        "3  CHR02_JHJ          1537718.75   CHR  left    LTC         43660         20   \n",
        "\n",
        "   relativeConnectivity  segmentVolume  thalamusVolume  totalConnectivity  \\\n",
        "0              0.124762           1640            9348      2607416.00054   \n",
        "1              0.120106           1640            9348      2188751.00066   \n",
        "2              0.063266            605            9348      1322205.00110   \n",
        "3              0.057479            605            9348      1047463.99968   \n",
        "\n",
        "   NAME  \n",
        "0  \uc870\ud604\uc9001  \n",
        "1  \uc870\ud604\uc9001  \n",
        "2  \uc870\ud604\uc9001  \n",
        "3  \uc870\ud604\uc9001  "
       ]
      }
     ],
     "prompt_number": 37
    },
    {
     "cell_type": "code",
     "collapsed": false,
     "input": [
      "all"
     ],
     "language": "python",
     "metadata": {},
     "outputs": []
    },
    {
     "cell_type": "code",
     "collapsed": false,
     "input": [
      "allDf.head(5)\n",
      "allDf = allDf.set_index('NAME')"
     ],
     "language": "python",
     "metadata": {},
     "outputs": [],
     "prompt_number": 38
    },
    {
     "cell_type": "code",
     "collapsed": false,
     "input": [
      "fepDf = allDf.groupby('group').get_group('FEP').groupby('cortex').get_group('LPFC').groupby('side').get_group('left').groupby('threshold').get_group(10)"
     ],
     "language": "python",
     "metadata": {},
     "outputs": [],
     "prompt_number": 65
    },
    {
     "cell_type": "code",
     "collapsed": false,
     "input": [
      "fepList = u'''\uac15\uc131\uc5f0\n",
      "\uad8c\ud601\uc8fc\n",
      "\uae40\uc544\ub984\n",
      "\uae40\uc6b0\uc9c4\n",
      "\uae40\uc8fc\uc6012\n",
      "\uae40\ud604\uc6b0\n",
      "\ub0a8\uc608\uc9c4\n",
      "\ubc15\ud61c\uc9c4\n",
      "\uc720\ubbf8\uc18c\n",
      "\uc774\ub098\uacbd\n",
      "\uc774\ubcf4\ub78c\n",
      "\uc774\uc120\uacbd\n",
      "\uc774\uc218\uc6c5\n",
      "\uc774\uc724\ud638\n",
      "\uc774\uc885\uc5fd\n",
      "\uc774\uc900\uc601\n",
      "\uc7a5\uc194\n",
      "\uc804\uc2b9\uc6b0\n",
      "\uc815\uc1a1\ubbfc\n",
      "\uc815\uc7ac\ud615\n",
      "\ucd5c\uc601\uc7ac\n",
      "\ucd5c\uc9c4\uc601\n",
      "\ud55c\uc9c0\uc218'''"
     ],
     "language": "python",
     "metadata": {},
     "outputs": [],
     "prompt_number": 116
    },
    {
     "cell_type": "code",
     "collapsed": false,
     "input": [
      "fepListSeparated = fepList.split('\\s+')"
     ],
     "language": "python",
     "metadata": {},
     "outputs": [],
     "prompt_number": 117
    },
    {
     "cell_type": "code",
     "collapsed": false,
     "input": [
      "import unicodedata"
     ],
     "language": "python",
     "metadata": {},
     "outputs": [],
     "prompt_number": 118
    },
    {
     "cell_type": "code",
     "collapsed": false,
     "input": [
      "type(fepDf.index[0])"
     ],
     "language": "python",
     "metadata": {},
     "outputs": [
      {
       "metadata": {},
       "output_type": "pyout",
       "prompt_number": 119,
       "text": [
        "unicode"
       ]
      }
     ],
     "prompt_number": 119
    },
    {
     "cell_type": "code",
     "collapsed": false,
     "input": [
      "fepDf.index[0]"
     ],
     "language": "python",
     "metadata": {},
     "outputs": [
      {
       "metadata": {},
       "output_type": "pyout",
       "prompt_number": 136,
       "text": [
        "u'\\uae40\\uc6b0\\uc9c4'"
       ]
      }
     ],
     "prompt_number": 136
    },
    {
     "cell_type": "code",
     "collapsed": false,
     "input": [
      "fepDf.ix[u'\ubc15\ud61c\uc9c4']"
     ],
     "language": "python",
     "metadata": {},
     "outputs": [
      {
       "metadata": {},
       "output_type": "pyout",
       "prompt_number": 159,
       "text": [
        "subject                  FEP10_PHJ\n",
        "intracranialVolume         1347078\n",
        "group                          FEP\n",
        "side                          left\n",
        "cortex                        LPFC\n",
        "cortexVolume                 25060\n",
        "threshold                       10\n",
        "relativeConnectivity    0.09653387\n",
        "segmentVolume                  798\n",
        "thalamusVolume                8371\n",
        "totalConnectivity          1892362\n",
        "Name: \ubc15\ud61c\uc9c4, dtype: object"
       ]
      }
     ],
     "prompt_number": 159
    },
    {
     "cell_type": "code",
     "collapsed": false,
     "input": [
      "fepDf.ix[u'\uae40']"
     ],
     "language": "python",
     "metadata": {},
     "outputs": [
      {
       "metadata": {},
       "output_type": "pyout",
       "prompt_number": 77,
       "text": [
        "subject                 FEP01_KWJ\n",
        "intracranialVolume        1681983\n",
        "group                         FEP\n",
        "side                         left\n",
        "cortex                       LPFC\n",
        "cortexVolume                34544\n",
        "threshold                      10\n",
        "relativeConnectivity     0.129101\n",
        "segmentVolume                1690\n",
        "thalamusVolume               8906\n",
        "totalConnectivity         3171303\n",
        "Name: \uae40\uc6b0\uc9c4, dtype: object"
       ]
      }
     ],
     "prompt_number": 77
    }
   ],
   "metadata": {}
  }
 ]
}