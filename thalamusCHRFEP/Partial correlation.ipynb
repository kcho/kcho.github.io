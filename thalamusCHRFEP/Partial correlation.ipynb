{
 "metadata": {
  "name": ""
 },
 "nbformat": 3,
 "nbformat_minor": 0,
 "worksheets": [
  {
   "cells": [
    {
     "cell_type": "markdown",
     "metadata": {},
     "source": [
      "#Partial correlation\n",
      "##Linking R functions"
     ]
    },
    {
     "cell_type": "code",
     "collapsed": false,
     "input": [
      "import pandas as pd\n",
      "import numpy as np\n",
      "from pandas import Series,DataFrame\n",
      "import os\n",
      "import re\n",
      "from scipy import stats\n",
      "from statsmodels.stats.anova import anova_lm\n",
      "from statsmodels.formula.api import ols\n",
      "import matplotlib.pyplot as plt\n",
      "from pandas.tools.plotting import scatter_matrix"
     ],
     "language": "python",
     "metadata": {},
     "outputs": [],
     "prompt_number": 1
    },
    {
     "cell_type": "code",
     "collapsed": false,
     "input": [
      "%load_ext rmagic\n",
      "#%reload_ext rmagic"
     ],
     "language": "python",
     "metadata": {},
     "outputs": [],
     "prompt_number": 2
    },
    {
     "cell_type": "code",
     "collapsed": false,
     "input": [
      "%R require(ggplot2)\n",
      "%R require(ppcor)\n",
      "%R require(effects)\n",
      "%R require(car)\n",
      "%R require(multcomp)"
     ],
     "language": "python",
     "metadata": {},
     "outputs": [
      {
       "metadata": {},
       "output_type": "display_data",
       "text": [
        "Loading required package: ggplot2\n"
       ]
      },
      {
       "metadata": {},
       "output_type": "display_data",
       "text": [
        "Loading required package: ppcor\n"
       ]
      },
      {
       "metadata": {},
       "output_type": "display_data",
       "text": [
        "Loading required package: effects\n",
        "Loading required package: lattice\n",
        "Loading required package: grid\n",
        "Loading required package: MASS\n",
        "Loading required package: nnet\n",
        "Loading required package: colorspace\n",
        "\n",
        "Attaching package: 'effects'\n",
        "\n",
        "The following object is masked from 'package:datasets':\n",
        "\n",
        "    Titanic\n",
        "\n"
       ]
      },
      {
       "metadata": {},
       "output_type": "display_data",
       "text": [
        "Loading required package: car\n",
        "\n",
        "Attaching package: 'car'\n",
        "\n",
        "The following object is masked from 'package:effects':\n",
        "\n",
        "    Prestige\n",
        "\n"
       ]
      },
      {
       "metadata": {},
       "output_type": "display_data",
       "text": [
        "Loading required package: multcomp\n",
        "Loading required package: mvtnorm\n",
        "Loading required package: survival\n",
        "Loading required package: splines\n",
        "Loading required package: TH.data\n"
       ]
      }
     ],
     "prompt_number": 3
    },
    {
     "cell_type": "code",
     "collapsed": false,
     "input": [
      "allData=pd.read_csv(\"/Users/admin/Dropbox/CHRvsNOR/2014_stats/37_38_22_thr10/LR_averaged_thalData.csv\",sep='\\t')"
     ],
     "language": "python",
     "metadata": {},
     "outputs": [],
     "prompt_number": 4
    },
    {
     "cell_type": "markdown",
     "metadata": {},
     "source": [
      "#OFC relative connectivity in CHR"
     ]
    },
    {
     "cell_type": "code",
     "collapsed": false,
     "input": [
      "df = allData[allData.group=='CHR'][allData.cortex=='OFC']"
     ],
     "language": "python",
     "metadata": {},
     "outputs": [],
     "prompt_number": 6
    },
    {
     "cell_type": "code",
     "collapsed": false,
     "input": [
      "df.columns"
     ],
     "language": "python",
     "metadata": {},
     "outputs": [
      {
       "metadata": {},
       "output_type": "pyout",
       "prompt_number": 7,
       "text": [
        "Index([u'subject', u'group', u'cortex', u'intracranialVolume', u'cortexVolume', u'relativeConnectivity', u'segmentVolume', u'thalamusVolume', u'totalConnectivity', u'sex', u'age', u'bday', u'education', u'hand', u'IQ', u'P1', u'P2', u'P3', u'P4', u'P5', u'P6', u'P7', u'N1', u'N2', u'N3', u'N4', u'N5', u'N6', u'N7', u'G1', u'G2', u'G3', u'G4', u'G5', u'G6', u'G7', u'G8', u'G9', u'G10', u'G11', u'G12', u'G13', u'G14', u'G15', u'G16', u'PSP10', u'PSP20', u'PSP30', u'PSP40', u'PSP50', u'PSN10', u'PSN20', u'PSN30', u'PSN40', u'PSN50', u'PSN60', u'PSD10', u'PSD20', u'PSD30', u'PSD40', u'PSG10', u'PSG20', u'PSG30', u'PSG40', u'PSPTOT0', u'PSNTOT0', u'PSDTOT0', u'PSGTOT0', u'SIPSTOT0', u'AS1_10', u'AS1_20', u'AS1_30', u'AS1_40', u'AS2_10', u'AS2_20', u'AS3_10', u'AS3_20', u'AS3_30', u'AS4_10', u'AS4_20', u'AS4_30', u'AS5_10', u'AS5_20', u'AS5_30', u'AS5_40', u'AS6_10', u'AS6_20', u'AS6_30', u'AS6_40', u'AS7_10', u'AS7_20', u'AS7_30', u'AS7_40', u'AS7_50', u'AS7_60', u'AS7_70', u'AS7_80', u'AS1TOT0', u'AS2TOT0', u'AS3TOT0', u'AS4TOT0', u'AS5TOT0', u'AS6TOT0', u'AS7TOT0', u'CAARMSTOT0', u'SAPS_\ud658\uac010', u'SAPS_\ub9dd\uc0c10', u'SAPS_\uad34\uc774\ud55c\ud589\ub3d90', u'SAPS_\uc591\uc131\uc801\uc0ac\uace00', u'SAPStot0', u'SANS_\uc815\ub3d9\ub454\ub9c80', u'SANS_\ub9d0\uc5c6\uc74c0', u'SANS_\ubb34\uc758\uc6950', u'SANS_\ubb34\ucf8c\uac100', u'SANS_\uc8fc\uc758\ub8250', u'SANStot0', u'GAF', u'GAFpastyr0', u'GAFpremorbid0', u'SOFASpresent0', u'SOFASpastyr0', u'SOFASpremorbid0', u'HAMA0', u'HAMD', u'YMS', u'BPRS0', u'parentalSES', u'panssTot', u'pTot', u'nTot', u'gTot'], dtype=object)"
       ]
      }
     ],
     "prompt_number": 7
    },
    {
     "cell_type": "markdown",
     "metadata": {},
     "source": [
      "####Columns in Korean"
     ]
    },
    {
     "cell_type": "code",
     "collapsed": false,
     "input": [
      "df.columns=[u'subject', u'group', u'cortex', u'intracranialVolume', u'cortexVolume', u'relativeConnectivity', u'segmentVolume', u'thalamusVolume', u'totalConnectivity', u'sex', u'age', u'bday', u'education', u'hand', u'IQ', u'P1', u'P2', u'P3', u'P4', u'P5', u'P6', u'P7', u'N1', u'N2', u'N3', u'N4', u'N5', u'N6', u'N7', u'G1', u'G2', u'G3', u'G4', u'G5', u'G6', u'G7', u'G8', u'G9', u'G10', u'G11', u'G12', u'G13', u'G14', u'G15', u'G16', u'PSP10', u'PSP20', u'PSP30', u'PSP40', u'PSP50', u'PSN10', u'PSN20', u'PSN30', u'PSN40', u'PSN50', u'PSN60', u'PSD10', u'PSD20', u'PSD30', u'PSD40', u'PSG10', u'PSG20', u'PSG30', u'PSG40', u'PSPTOT0', u'PSNTOT0', u'PSDTOT0', u'PSGTOT0', u'SIPSTOT0', u'AS1_10', u'AS1_20', u'AS1_30', u'AS1_40', u'AS2_10', u'AS2_20', u'AS3_10', u'AS3_20', u'AS3_30', u'AS4_10', u'AS4_20', u'AS4_30', u'AS5_10', u'AS5_20', u'AS5_30', u'AS5_40', u'AS6_10', u'AS6_20', u'AS6_30', u'AS6_40', u'AS7_10', u'AS7_20', u'AS7_30', u'AS7_40', u'AS7_50', u'AS7_60', u'AS7_70', u'AS7_80', u'AS1TOT0', u'AS2TOT0', u'AS3TOT0', u'AS4TOT0', u'AS5TOT0', u'AS6TOT0', u'AS7TOT0', u'CAARMSTOT0', u'SAPS_ghksrkr0', u'SAPS_akdtkd0', u'SAPS_rhldlgksgodehd0', u'SAPS_didtjdwjrtkrh0', u'SAPStot0', u'SANS_wjdehdensak0', u'SANS_akfdjqtdma0', u'SANS_andmldyr0', u'SANS_anzhorka0', u'SANS_wndmlfur0', u'SANStot0', u'GAF', u'GAFpastyr0', u'GAFpremorbid0', u'SOFASpresent0', u'SOFASpastyr0', u'SOFASpremorbid0', u'HAMA0', u'HAMD', u'YMS', u'BPRS0', u'parentalSES', u'panssTot', u'pTot', u'nTot', u'gTot']"
     ],
     "language": "python",
     "metadata": {},
     "outputs": [],
     "prompt_number": 8
    },
    {
     "cell_type": "code",
     "collapsed": false,
     "input": [
      "%R -i df print(summary(df))"
     ],
     "language": "python",
     "metadata": {},
     "outputs": [
      {
       "metadata": {},
       "output_type": "display_data",
       "text": [
        "      subject   group    cortex   intracranialVolume  cortexVolume  \n",
        " CHR02_JHJ: 1   CHR:38   OFC:38   Min.   :1320759    Min.   :12390  \n",
        " CHR04_PJH: 1                     1st Qu.:1445068    1st Qu.:14277  \n",
        " CHR05_SJH: 1                     Median :1518765    Median :15121  \n",
        " CHR06_JHJ: 1                     Mean   :1514808    Mean   :15025  \n",
        " CHR08_PJH: 1                     3rd Qu.:1573504    3rd Qu.:15799  \n",
        " CHR10_LJJ: 1                     Max.   :1816598    Max.   :17378  \n",
        " (Other)  :32                                                       \n",
        " relativeConnectivity segmentVolume    thalamusVolume totalConnectivity\n",
        " Min.   :0.03795      Min.   :  13.5   Min.   :7249   Min.   : 299474  \n",
        " 1st Qu.:0.05645      1st Qu.: 254.0   1st Qu.:8194   1st Qu.: 990410  \n",
        " Median :0.07231      Median : 555.0   Median :8660   Median :1441394  \n",
        " Mean   :0.07267      Mean   : 530.2   Mean   :8595   Mean   :1468351  \n",
        " 3rd Qu.:0.09188      3rd Qu.: 737.2   3rd Qu.:9124   3rd Qu.:1884915  \n",
        " Max.   :0.11945      Max.   :1302.5   Max.   :9620   Max.   :2474818  \n",
        "                                                                       \n",
        "      sex             age             bday         education    \n",
        " Min.   :1.000   Min.   :18.00   Min.   :30274   Min.   :12.00  \n",
        " 1st Qu.:1.000   1st Qu.:19.00   1st Qu.:32432   1st Qu.:12.00  \n",
        " Median :1.000   Median :20.00   Median :33240   Median :13.00  \n",
        " Mean   :1.316   Mean   :20.82   Mean   :32961   Mean   :13.24  \n",
        " 3rd Qu.:2.000   3rd Qu.:22.75   3rd Qu.:33657   3rd Qu.:14.00  \n",
        " Max.   :2.000   Max.   :27.00   Max.   :34373   Max.   :16.00  \n",
        "                                                                \n",
        "      hand             IQ              P1              P2       \n",
        " Min.   :1.000   Min.   : 84.0   Min.   :1.000   Min.   :1.000  \n",
        " 1st Qu.:1.000   1st Qu.:104.0   1st Qu.:2.000   1st Qu.:1.000  \n",
        " Median :1.000   Median :111.0   Median :2.000   Median :2.000  \n",
        " Mean   :1.105   Mean   :111.6   Mean   :2.421   Mean   :1.789  \n",
        " 3rd Qu.:1.000   3rd Qu.:120.0   3rd Qu.:3.000   3rd Qu.:2.000  \n",
        " Max.   :2.000   Max.   :136.0   Max.   :5.000   Max.   :3.000  \n",
        "                                                                \n",
        "       P3              P4              P5              P6       \n",
        " Min.   :1.000   Min.   :1.000   Min.   :1.000   Min.   :1.000  \n",
        " 1st Qu.:1.000   1st Qu.:1.000   1st Qu.:1.000   1st Qu.:2.000  \n",
        " Median :2.000   Median :1.000   Median :1.000   Median :3.000  \n",
        " Mean   :1.947   Mean   :1.553   Mean   :1.316   Mean   :2.842  \n",
        " 3rd Qu.:2.750   3rd Qu.:2.000   3rd Qu.:1.000   3rd Qu.:3.750  \n",
        " Max.   :5.000   Max.   :4.000   Max.   :3.000   Max.   :5.000  \n",
        "                                                                \n",
        "       P7              N1              N2              N3       \n",
        " Min.   :1.000   Min.   :1.000   Min.   :1.000   Min.   :1.000  \n",
        " 1st Qu.:1.000   1st Qu.:2.000   1st Qu.:2.000   1st Qu.:1.000  \n",
        " Median :1.000   Median :2.000   Median :3.000   Median :2.000  \n",
        " Mean   :1.632   Mean   :2.474   Mean   :2.763   Mean   :2.105  \n",
        " 3rd Qu.:2.000   3rd Qu.:3.000   3rd Qu.:4.000   3rd Qu.:3.000  \n",
        " Max.   :4.000   Max.   :4.000   Max.   :4.000   Max.   :4.000  \n",
        "                                                                \n",
        "       N4              N5              N6              N7       \n",
        " Min.   :1.000   Min.   :1.000   Min.   :1.000   Min.   :1.000  \n",
        " 1st Qu.:2.000   1st Qu.:1.000   1st Qu.:1.000   1st Qu.:1.000  \n",
        " Median :3.000   Median :2.000   Median :2.000   Median :1.000  \n",
        " Mean   :3.368   Mean   :2.158   Mean   :2.132   Mean   :1.763  \n",
        " 3rd Qu.:4.750   3rd Qu.:3.000   3rd Qu.:3.000   3rd Qu.:2.000  \n",
        " Max.   :6.000   Max.   :5.000   Max.   :5.000   Max.   :4.000  \n",
        "                                                                \n",
        "       G1              G2          G3              G4              G5       \n",
        " Min.   :1.000   Min.   :1   Min.   :1.000   Min.   :1.000   Min.   :1.000  \n",
        " 1st Qu.:1.000   1st Qu.:2   1st Qu.:1.000   1st Qu.:1.000   1st Qu.:1.000  \n",
        " Median :1.000   Median :3   Median :1.000   Median :2.000   Median :1.000  \n",
        " Mean   :1.895   Mean   :3   Mean   :1.763   Mean   :1.895   Mean   :1.237  \n",
        " 3rd Qu.:2.750   3rd Qu.:4   3rd Qu.:2.000   3rd Qu.:3.000   3rd Qu.:1.000  \n",
        " Max.   :6.000   Max.   :6   Max.   :5.000   Max.   :3.000   Max.   :3.000  \n",
        "                                                                            \n",
        "       G6              G7              G8              G9       \n",
        " Min.   :1.000   Min.   :1.000   Min.   :1.000   Min.   :1.000  \n",
        " 1st Qu.:3.000   1st Qu.:1.000   1st Qu.:1.000   1st Qu.:1.000  \n",
        " Median :4.000   Median :1.000   Median :1.000   Median :2.000  \n",
        " Mean   :3.579   Mean   :1.526   Mean   :1.316   Mean   :2.026  \n",
        " 3rd Qu.:5.000   3rd Qu.:2.000   3rd Qu.:1.000   3rd Qu.:3.000  \n",
        " Max.   :6.000   Max.   :4.000   Max.   :3.000   Max.   :5.000  \n",
        "                                                                \n",
        "      G10             G11             G12             G13       \n",
        " Min.   :1.000   Min.   :1.000   Min.   :1.000   Min.   :1.000  \n",
        " 1st Qu.:1.000   1st Qu.:1.000   1st Qu.:1.000   1st Qu.:1.000  \n",
        " Median :1.000   Median :2.000   Median :2.000   Median :2.000  \n",
        " Mean   :1.368   Mean   :2.132   Mean   :2.158   Mean   :2.316  \n",
        " 3rd Qu.:1.000   3rd Qu.:3.000   3rd Qu.:3.000   3rd Qu.:3.000  \n",
        " Max.   :3.000   Max.   :5.000   Max.   :5.000   Max.   :5.000  \n",
        "                                                                \n",
        "      G14             G15             G16            PSP10      \n",
        " Min.   :1.000   Min.   :1.000   Min.   :1.000   Min.   :0.000  \n",
        " 1st Qu.:1.000   1st Qu.:1.000   1st Qu.:3.000   1st Qu.:1.000  \n",
        " Median :1.000   Median :2.000   Median :4.000   Median :3.000  \n",
        " Mean   :1.737   Mean   :1.921   Mean   :3.605   Mean   :2.842  \n",
        " 3rd Qu.:2.000   3rd Qu.:2.750   3rd Qu.:5.000   3rd Qu.:4.000  \n",
        " Max.   :4.000   Max.   :4.000   Max.   :6.000   Max.   :5.000  \n",
        "                                                                \n",
        "     PSP20           PSP30            PSP40           PSP50      \n",
        " Min.   :0.000   Min.   :0.0000   Min.   :0.000   Min.   :0.000  \n",
        " 1st Qu.:2.000   1st Qu.:0.0000   1st Qu.:0.000   1st Qu.:0.000  \n",
        " Median :3.000   Median :0.0000   Median :2.000   Median :2.000  \n",
        " Mean   :2.763   Mean   :0.4211   Mean   :1.868   Mean   :1.526  \n",
        " 3rd Qu.:4.000   3rd Qu.:0.0000   3rd Qu.:3.000   3rd Qu.:2.000  \n",
        " Max.   :5.000   Max.   :4.0000   Max.   :5.000   Max.   :4.000  \n",
        "                                                                 \n",
        "     PSN10           PSN20           PSN30           PSN40      \n",
        " Min.   :0.000   Min.   :0.000   Min.   :0.000   Min.   :0.000  \n",
        " 1st Qu.:1.250   1st Qu.:2.000   1st Qu.:1.000   1st Qu.:1.000  \n",
        " Median :3.000   Median :3.000   Median :2.000   Median :2.000  \n",
        " Mean   :2.868   Mean   :2.816   Mean   :2.026   Mean   :1.816  \n",
        " 3rd Qu.:4.000   3rd Qu.:4.000   3rd Qu.:3.000   3rd Qu.:3.000  \n",
        " Max.   :6.000   Max.   :5.000   Max.   :5.000   Max.   :5.000  \n",
        "                                                                \n",
        "     PSN50           PSN60         PSD10            PSD20           PSD30      \n",
        " Min.   :0.000   Min.   :1.0   Min.   :0.0000   Min.   :0.000   Min.   :0.000  \n",
        " 1st Qu.:0.000   1st Qu.:3.0   1st Qu.:0.0000   1st Qu.:0.000   1st Qu.:1.000  \n",
        " Median :1.500   Median :3.0   Median :0.0000   Median :1.000   Median :2.000  \n",
        " Mean   :1.868   Mean   :3.5   Mean   :0.5526   Mean   :1.158   Mean   :1.947  \n",
        " 3rd Qu.:3.000   3rd Qu.:4.0   3rd Qu.:0.7500   3rd Qu.:2.000   3rd Qu.:3.000  \n",
        " Max.   :5.000   Max.   :6.0   Max.   :4.0000   Max.   :5.000   Max.   :4.000  \n",
        "                                                                               \n",
        "     PSD40            PSG10           PSG20           PSG30       \n",
        " Min.   :0.0000   Min.   :0.000   Min.   :0.000   Min.   :0.0000  \n",
        " 1st Qu.:0.0000   1st Qu.:0.000   1st Qu.:1.000   1st Qu.:0.0000  \n",
        " Median :0.0000   Median :2.000   Median :3.000   Median :0.0000  \n",
        " Mean   :0.6316   Mean   :1.447   Mean   :2.605   Mean   :0.2895  \n",
        " 3rd Qu.:1.0000   3rd Qu.:2.750   3rd Qu.:4.000   3rd Qu.:0.0000  \n",
        " Max.   :3.0000   Max.   :4.000   Max.   :5.000   Max.   :3.0000  \n",
        "                                                                  \n",
        "     PSG40          PSPTOT0     PSNTOT0     PSDTOT0     PSGTOT0     SIPSTOT0\n",
        " Min.   :0.000   Min.   :0   Min.   :0   Min.   :0   Min.   :0   Min.   :0  \n",
        " 1st Qu.:1.250   1st Qu.:0   1st Qu.:0   1st Qu.:0   1st Qu.:0   1st Qu.:0  \n",
        " Median :3.000   Median :0   Median :0   Median :0   Median :0   Median :0  \n",
        " Mean   :2.684   Mean   :0   Mean   :0   Mean   :0   Mean   :0   Mean   :0  \n",
        " 3rd Qu.:4.000   3rd Qu.:0   3rd Qu.:0   3rd Qu.:0   3rd Qu.:0   3rd Qu.:0  \n",
        " Max.   :5.000   Max.   :0   Max.   :0   Max.   :0   Max.   :0   Max.   :0  \n",
        "                                                                            \n",
        "     AS1_10          AS1_20          AS1_30          AS1_40     \n",
        " Min.   :0.000   Min.   :0.000   Min.   :0.000   Min.   :0.000  \n",
        " 1st Qu.:1.250   1st Qu.:2.000   1st Qu.:0.000   1st Qu.:0.000  \n",
        " Median :3.000   Median :3.000   Median :2.000   Median :2.000  \n",
        " Mean   :2.789   Mean   :2.974   Mean   :1.947   Mean   :1.632  \n",
        " 3rd Qu.:4.000   3rd Qu.:4.000   3rd Qu.:3.000   3rd Qu.:3.000  \n",
        " Max.   :5.000   Max.   :5.000   Max.   :5.000   Max.   :4.000  \n",
        "                                                                \n",
        "     AS2_10          AS2_20          AS3_10          AS3_20     \n",
        " Min.   :0.000   Min.   :0.000   Min.   :0.000   Min.   :0.000  \n",
        " 1st Qu.:1.000   1st Qu.:0.000   1st Qu.:1.000   1st Qu.:2.000  \n",
        " Median :2.000   Median :1.000   Median :2.000   Median :2.000  \n",
        " Mean   :2.079   Mean   :1.289   Mean   :1.658   Mean   :2.132  \n",
        " 3rd Qu.:3.000   3rd Qu.:2.000   3rd Qu.:2.000   3rd Qu.:3.000  \n",
        " Max.   :5.000   Max.   :4.000   Max.   :4.000   Max.   :5.000  \n",
        "                                                                \n",
        "     AS3_30           AS4_10          AS4_20          AS4_30     \n",
        " Min.   :0.0000   Min.   :0.000   Min.   :0.000   Min.   :0.000  \n",
        " 1st Qu.:0.0000   1st Qu.:1.000   1st Qu.:2.000   1st Qu.:2.000  \n",
        " Median :0.0000   Median :2.000   Median :3.000   Median :2.500  \n",
        " Mean   :0.4211   Mean   :1.658   Mean   :2.895   Mean   :2.632  \n",
        " 3rd Qu.:1.0000   3rd Qu.:2.000   3rd Qu.:4.000   3rd Qu.:4.000  \n",
        " Max.   :3.0000   Max.   :5.000   Max.   :6.000   Max.   :5.000  \n",
        "                                                                 \n",
        "     AS5_10          AS5_20          AS5_30           AS5_40     \n",
        " Min.   :0.000   Min.   :1.000   Min.   :0.0000   Min.   :0.000  \n",
        " 1st Qu.:2.000   1st Qu.:3.000   1st Qu.:0.0000   1st Qu.:0.000  \n",
        " Median :4.000   Median :3.500   Median :0.0000   Median :0.000  \n",
        " Mean   :3.184   Mean   :3.526   Mean   :0.6842   Mean   :1.132  \n",
        " 3rd Qu.:4.000   3rd Qu.:4.000   3rd Qu.:1.7500   3rd Qu.:2.750  \n",
        " Max.   :5.000   Max.   :5.000   Max.   :4.0000   Max.   :4.000  \n",
        "                                                                 \n",
        "     AS6_10           AS6_20           AS6_30           AS6_40      \n",
        " Min.   :0.0000   Min.   :0.0000   Min.   :0.0000   Min.   :0.0000  \n",
        " 1st Qu.:0.0000   1st Qu.:0.0000   1st Qu.:0.0000   1st Qu.:0.0000  \n",
        " Median :0.0000   Median :0.0000   Median :0.0000   Median :0.0000  \n",
        " Mean   :0.5526   Mean   :0.3421   Mean   :0.7895   Mean   :0.6579  \n",
        " 3rd Qu.:0.7500   3rd Qu.:0.0000   3rd Qu.:0.7500   3rd Qu.:1.0000  \n",
        " Max.   :3.0000   Max.   :3.0000   Max.   :5.0000   Max.   :4.0000  \n",
        "                                                                    \n",
        "     AS7_10           AS7_20          AS7_30          AS7_40     \n",
        " Min.   :0.0000   Min.   :0.000   Min.   :0.000   Min.   :0.000  \n",
        " 1st Qu.:0.0000   1st Qu.:2.000   1st Qu.:0.000   1st Qu.:0.000  \n",
        " Median :0.0000   Median :3.000   Median :2.000   Median :1.000  \n",
        " Mean   :0.1842   Mean   :2.763   Mean   :1.342   Mean   :1.184  \n",
        " 3rd Qu.:0.0000   3rd Qu.:4.000   3rd Qu.:2.000   3rd Qu.:2.000  \n",
        " Max.   :2.0000   Max.   :6.000   Max.   :3.000   Max.   :5.000  \n",
        "                                                                 \n",
        "     AS7_50          AS7_60        AS7_70           AS7_80         AS1TOT0 \n",
        " Min.   :0.000   Min.   :0.0   Min.   :0.0000   Min.   :0.000   Min.   :0  \n",
        " 1st Qu.:1.000   1st Qu.:0.0   1st Qu.:0.0000   1st Qu.:1.000   1st Qu.:0  \n",
        " Median :3.000   Median :1.0   Median :0.0000   Median :3.000   Median :0  \n",
        " Mean   :2.579   Mean   :1.5   Mean   :0.3684   Mean   :2.763   Mean   :0  \n",
        " 3rd Qu.:4.000   3rd Qu.:2.0   3rd Qu.:0.0000   3rd Qu.:4.000   3rd Qu.:0  \n",
        " Max.   :5.000   Max.   :5.0   Max.   :3.0000   Max.   :6.000   Max.   :0  \n",
        "                                                                           \n",
        "    AS2TOT0     AS3TOT0     AS4TOT0     AS5TOT0     AS6TOT0     AS7TOT0 \n",
        " Min.   :0   Min.   :0   Min.   :0   Min.   :0   Min.   :0   Min.   :0  \n",
        " 1st Qu.:0   1st Qu.:0   1st Qu.:0   1st Qu.:0   1st Qu.:0   1st Qu.:0  \n",
        " Median :0   Median :0   Median :0   Median :0   Median :0   Median :0  \n",
        " Mean   :0   Mean   :0   Mean   :0   Mean   :0   Mean   :0   Mean   :0  \n",
        " 3rd Qu.:0   3rd Qu.:0   3rd Qu.:0   3rd Qu.:0   3rd Qu.:0   3rd Qu.:0  \n",
        " Max.   :0   Max.   :0   Max.   :0   Max.   :0   Max.   :0   Max.   :0  \n",
        "                                                                        \n",
        "   CAARMSTOT0 SAPS_ghksrkr0     SAPS_akdtkd0    SAPS_rhldlgksgodehd0\n",
        " Min.   :0    Min.   : 0.000   Min.   : 0.000   Min.   :0.000       \n",
        " 1st Qu.:0    1st Qu.: 0.000   1st Qu.: 3.250   1st Qu.:0.000       \n",
        " Median :0    Median : 1.500   Median : 6.000   Median :0.000       \n",
        " Mean   :0    Mean   : 2.947   Mean   : 6.947   Mean   :1.447       \n",
        " 3rd Qu.:0    3rd Qu.: 4.750   3rd Qu.: 9.750   3rd Qu.:2.750       \n",
        " Max.   :0    Max.   :18.000   Max.   :25.000   Max.   :7.000       \n",
        "                                                                    \n",
        " SAPS_didtjdwjrtkrh0    SAPStot0 SANS_wjdehdensak0 SANS_akfdjqtdma0\n",
        " Min.   : 0.000      Min.   :0   Min.   : 0.00     Min.   : 0.000  \n",
        " 1st Qu.: 0.000      1st Qu.:0   1st Qu.: 4.25     1st Qu.: 0.000  \n",
        " Median : 3.000      Median :0   Median : 9.00     Median : 3.000  \n",
        " Mean   : 5.421      Mean   :0   Mean   :10.05     Mean   : 5.237  \n",
        " 3rd Qu.: 9.000      3rd Qu.:0   3rd Qu.:15.75     3rd Qu.: 8.000  \n",
        " Max.   :29.000      Max.   :0   Max.   :27.00     Max.   :24.000  \n",
        "                                                                   \n",
        " SANS_andmldyr0   SANS_anzhorka0  SANS_wndmlfur0     SANStot0      GAF       \n",
        " Min.   : 1.000   Min.   : 0.00   Min.   :0.000   Min.   :0   Min.   :33.00  \n",
        " 1st Qu.: 5.000   1st Qu.: 7.00   1st Qu.:0.000   1st Qu.:0   1st Qu.:44.00  \n",
        " Median : 8.000   Median :12.00   Median :2.000   Median :0   Median :50.50  \n",
        " Mean   : 7.895   Mean   :11.45   Mean   :2.868   Mean   :0   Mean   :49.37  \n",
        " 3rd Qu.:10.000   3rd Qu.:15.00   3rd Qu.:5.000   3rd Qu.:0   3rd Qu.:54.75  \n",
        " Max.   :17.000   Max.   :24.00   Max.   :9.000   Max.   :0   Max.   :67.00  \n",
        "                                                                             \n",
        "   GAFpastyr0    GAFpremorbid0   SOFASpresent0    SOFASpastyr0  \n",
        " Min.   :33.00   Min.   :63.00   Min.   :33.00   Min.   :33.00  \n",
        " 1st Qu.:50.25   1st Qu.:75.00   1st Qu.:45.00   1st Qu.:50.25  \n",
        " Median :60.00   Median :80.50   Median :50.00   Median :58.50  \n",
        " Mean   :58.53   Mean   :80.16   Mean   :49.58   Mean   :58.34  \n",
        " 3rd Qu.:65.00   3rd Qu.:85.00   3rd Qu.:55.00   3rd Qu.:65.00  \n",
        " Max.   :84.00   Max.   :91.00   Max.   :70.00   Max.   :85.00  \n",
        "                                                                \n",
        " SOFASpremorbid0     HAMA0             HAMD            YMS        \n",
        " Min.   :63.00   Min.   : 0.000   Min.   : 2.00   Min.   :0.0000  \n",
        " 1st Qu.:71.25   1st Qu.: 6.000   1st Qu.: 8.25   1st Qu.:0.0000  \n",
        " Median :80.00   Median : 8.000   Median :12.00   Median :0.0000  \n",
        " Mean   :78.45   Mean   : 9.842   Mean   :12.18   Mean   :0.4737  \n",
        " 3rd Qu.:84.50   3rd Qu.:13.000   3rd Qu.:15.75   3rd Qu.:0.0000  \n",
        " Max.   :90.00   Max.   :27.000   Max.   :25.00   Max.   :7.0000  \n",
        "                                                                  \n",
        "     BPRS0        parentalSES       panssTot          pTot           nTot      \n",
        " Min.   :31.00   Min.   :1.000   Min.   :34.00   Min.   : 8.0   Min.   : 7.00  \n",
        " 1st Qu.:38.00   1st Qu.:2.000   1st Qu.:54.00   1st Qu.:11.0   1st Qu.:12.25  \n",
        " Median :44.00   Median :2.500   Median :60.50   Median :13.0   Median :17.50  \n",
        " Mean   :45.18   Mean   :2.816   Mean   :63.74   Mean   :13.5   Mean   :16.76  \n",
        " 3rd Qu.:51.00   3rd Qu.:3.750   3rd Qu.:75.00   3rd Qu.:15.0   3rd Qu.:21.00  \n",
        " Max.   :66.00   Max.   :5.000   Max.   :90.00   Max.   :23.0   Max.   :28.00  \n",
        "                                                                               \n",
        "      gTot      \n",
        " Min.   :17.00  \n",
        " 1st Qu.:27.25  \n",
        " Median :33.00  \n",
        " Mean   :33.47  \n",
        " 3rd Qu.:39.00  \n",
        " Max.   :49.00  \n",
        "                \n"
       ]
      }
     ],
     "prompt_number": 9
    },
    {
     "cell_type": "markdown",
     "metadata": {},
     "source": [
      "##Using ppcor in R"
     ]
    },
    {
     "cell_type": "code",
     "collapsed": false,
     "input": [
      "variableToCompare = 'relativeConnectivity'\n",
      "for COLUMN in ['G8','SAPS_ghksrkr0','SAPS_rhldlgksgodehd0','GAFpastyr0','SOFASpresent0','SOFASpastyr0']:\n",
      "    %R -i COLUMN\n",
      "    %R -i variableToCompare\n",
      "    %R -i df\n",
      "    %R -o pcorOut pcorOut <- pcor.test(df[variableToCompare],df[COLUMN],df['intracranialVolume'])\n",
      "    \n",
      "    if pcorOut[1] < 0.05:\n",
      "        print 'Partial correlation between {0} & {1}, controlled for ICV'.format(COLUMN,variableToCompare)\n",
      "        print '================================================================='\n",
      "        %R print(pcorOut)\n",
      "        print '\\n\\n\\n'\n",
      "\n"
     ],
     "language": "python",
     "metadata": {},
     "outputs": [
      {
       "output_type": "stream",
       "stream": "stdout",
       "text": [
        "Partial correlation between G8 & relativeConnectivity, controlled for ICV\n",
        "=================================================================\n"
       ]
      },
      {
       "metadata": {},
       "output_type": "display_data",
       "text": [
        "    estimate    p.value statistic  n gp  Method\n",
        "1 -0.3789843 0.01539982 -2.422837 38  1 pearson\n"
       ]
      },
      {
       "output_type": "stream",
       "stream": "stdout",
       "text": [
        "\n",
        "\n",
        "\n",
        "\n",
        "Partial correlation between SAPS_ghksrkr0 & relativeConnectivity, controlled for ICV"
       ]
      },
      {
       "output_type": "stream",
       "stream": "stdout",
       "text": [
        "\n",
        "=================================================================\n"
       ]
      },
      {
       "metadata": {},
       "output_type": "display_data",
       "text": [
        "    estimate  p.value statistic  n gp  Method\n",
        "1 -0.3503853 0.026883 -2.213212 38  1 pearson\n"
       ]
      },
      {
       "output_type": "stream",
       "stream": "stdout",
       "text": [
        "\n",
        "\n",
        "\n",
        "\n",
        "Partial correlation between SAPS_rhldlgksgodehd0 & relativeConnectivity, controlled for ICV"
       ]
      },
      {
       "output_type": "stream",
       "stream": "stdout",
       "text": [
        "\n",
        "=================================================================\n"
       ]
      },
      {
       "metadata": {},
       "output_type": "display_data",
       "text": [
        "    estimate    p.value statistic  n gp  Method\n",
        "1 -0.3592589 0.02275926 -2.277452 38  1 pearson\n"
       ]
      },
      {
       "output_type": "stream",
       "stream": "stdout",
       "text": [
        "\n",
        "\n",
        "\n",
        "\n",
        "Partial correlation between GAFpastyr0 & relativeConnectivity, controlled for ICV"
       ]
      },
      {
       "output_type": "stream",
       "stream": "stdout",
       "text": [
        "\n",
        "=================================================================\n"
       ]
      },
      {
       "metadata": {},
       "output_type": "display_data",
       "text": [
        "   estimate    p.value statistic  n gp  Method\n",
        "1 0.3259827 0.04135316  2.039972 38  1 pearson\n"
       ]
      },
      {
       "output_type": "stream",
       "stream": "stdout",
       "text": [
        "\n",
        "\n",
        "\n",
        "\n",
        "Partial correlation between SOFASpresent0 & relativeConnectivity, controlled for ICV"
       ]
      },
      {
       "output_type": "stream",
       "stream": "stdout",
       "text": [
        "\n",
        "=================================================================\n"
       ]
      },
      {
       "metadata": {},
       "output_type": "display_data",
       "text": [
        "   estimate    p.value statistic  n gp  Method\n",
        "1 0.3990823 0.01002571  2.574941 38  1 pearson\n"
       ]
      },
      {
       "output_type": "stream",
       "stream": "stdout",
       "text": [
        "\n",
        "\n",
        "\n",
        "\n",
        "Partial correlation between SOFASpastyr0 & relativeConnectivity, controlled for ICV"
       ]
      },
      {
       "output_type": "stream",
       "stream": "stdout",
       "text": [
        "\n",
        "=================================================================\n"
       ]
      },
      {
       "metadata": {},
       "output_type": "display_data",
       "text": [
        "   estimate    p.value statistic  n gp  Method\n",
        "1 0.3432135 0.03063428  2.161791 38  1 pearson\n"
       ]
      },
      {
       "output_type": "stream",
       "stream": "stdout",
       "text": [
        "\n",
        "\n",
        "\n",
        "\n"
       ]
      }
     ],
     "prompt_number": 10
    },
    {
     "cell_type": "markdown",
     "metadata": {},
     "source": [
      "##total connectivity"
     ]
    },
    {
     "cell_type": "code",
     "collapsed": false,
     "input": [
      "variableToCompare = 'totalConnectivity'\n",
      "for COLUMN in ['G3','G8','AS1_10','GAF','GAFpastyr0','SOFASpresent0','SOFASpastyr0']:\n",
      "    %R -i COLUMN\n",
      "    %R -i variableToCompare\n",
      "    %R -i df\n",
      "    %R -o pcorOut pcorOut <- pcor.test(df[variableToCompare],df[COLUMN],df['intracranialVolume'])\n",
      "    \n",
      "    if pcorOut[1] < 0.05:\n",
      "        print 'Partial correlation between {0} & {1}, controlled for ICV'.format(COLUMN,variableToCompare)\n",
      "        print '================================================================='\n",
      "        %R print(pcorOut)\n",
      "        print '\\n\\n\\n'\n"
     ],
     "language": "python",
     "metadata": {},
     "outputs": [
      {
       "output_type": "stream",
       "stream": "stdout",
       "text": [
        "Partial correlation between G3 & totalConnectivity, controlled for ICV\n",
        "=================================================================\n"
       ]
      },
      {
       "metadata": {},
       "output_type": "display_data",
       "text": [
        "   estimate    p.value statistic  n gp  Method\n",
        "1 0.3376823 0.03380194  2.122426 38  1 pearson\n"
       ]
      },
      {
       "output_type": "stream",
       "stream": "stdout",
       "text": [
        "\n",
        "\n",
        "\n",
        "\n",
        "Partial correlation between G8 & totalConnectivity, controlled for ICV"
       ]
      },
      {
       "output_type": "stream",
       "stream": "stdout",
       "text": [
        "\n",
        "=================================================================\n"
       ]
      },
      {
       "metadata": {},
       "output_type": "display_data",
       "text": [
        "   estimate    p.value statistic  n gp  Method\n",
        "1 -0.330938 0.03800846 -2.074763 38  1 pearson\n"
       ]
      },
      {
       "output_type": "stream",
       "stream": "stdout",
       "text": [
        "\n",
        "\n",
        "\n",
        "\n",
        "Partial correlation between AS1_10 & totalConnectivity, controlled for ICV"
       ]
      },
      {
       "output_type": "stream",
       "stream": "stdout",
       "text": [
        "\n",
        "=================================================================\n"
       ]
      },
      {
       "metadata": {},
       "output_type": "display_data",
       "text": [
        "    estimate    p.value statistic  n gp  Method\n",
        "1 -0.3470411 0.02858372 -2.189181 38  1 pearson\n"
       ]
      },
      {
       "output_type": "stream",
       "stream": "stdout",
       "text": [
        "\n",
        "\n",
        "\n",
        "\n",
        "Partial correlation between GAF & totalConnectivity, controlled for ICV"
       ]
      },
      {
       "output_type": "stream",
       "stream": "stdout",
       "text": [
        "\n",
        "=================================================================\n"
       ]
      },
      {
       "metadata": {},
       "output_type": "display_data",
       "text": [
        "   estimate    p.value statistic  n gp  Method\n",
        "1 0.3360961 0.03475652  2.111184 38  1 pearson\n"
       ]
      },
      {
       "output_type": "stream",
       "stream": "stdout",
       "text": [
        "\n",
        "\n",
        "\n",
        "\n",
        "Partial correlation between GAFpastyr0 & totalConnectivity, controlled for ICV"
       ]
      },
      {
       "output_type": "stream",
       "stream": "stdout",
       "text": [
        "\n",
        "=================================================================\n"
       ]
      },
      {
       "metadata": {},
       "output_type": "display_data",
       "text": [
        "   estimate    p.value statistic  n gp  Method\n",
        "1 0.3449318 0.02969974  2.174072 38  1 pearson\n"
       ]
      },
      {
       "output_type": "stream",
       "stream": "stdout",
       "text": [
        "\n",
        "\n",
        "\n",
        "\n",
        "Partial correlation between SOFASpresent0 & totalConnectivity, controlled for ICV"
       ]
      },
      {
       "output_type": "stream",
       "stream": "stdout",
       "text": [
        "\n",
        "=================================================================\n"
       ]
      },
      {
       "metadata": {},
       "output_type": "display_data",
       "text": [
        "  estimate     p.value statistic  n gp  Method\n",
        "1 0.436267 0.004126195  2.868349 38  1 pearson\n"
       ]
      },
      {
       "output_type": "stream",
       "stream": "stdout",
       "text": [
        "\n",
        "\n",
        "\n",
        "\n",
        "Partial correlation between SOFASpastyr0 & totalConnectivity, controlled for ICV"
       ]
      },
      {
       "output_type": "stream",
       "stream": "stdout",
       "text": [
        "\n",
        "=================================================================\n"
       ]
      },
      {
       "metadata": {},
       "output_type": "display_data",
       "text": [
        "   estimate   p.value statistic  n gp  Method\n",
        "1 0.3442729 0.0300554  2.169359 38  1 pearson\n"
       ]
      },
      {
       "output_type": "stream",
       "stream": "stdout",
       "text": [
        "\n",
        "\n",
        "\n",
        "\n"
       ]
      }
     ],
     "prompt_number": 11
    },
    {
     "cell_type": "markdown",
     "metadata": {},
     "source": [
      "#OFC total connectivity in FEP"
     ]
    },
    {
     "cell_type": "code",
     "collapsed": false,
     "input": [
      "df = allData[allData.group=='FEP'][allData.cortex=='OFC']\n",
      "df.columns=[u'subject', u'group', u'cortex', u'intracranialVolume', u'cortexVolume', u'relativeConnectivity', u'segmentVolume', u'thalamusVolume', u'totalConnectivity', u'sex', u'age', u'bday', u'education', u'hand', u'IQ', u'P1', u'P2', u'P3', u'P4', u'P5', u'P6', u'P7', u'N1', u'N2', u'N3', u'N4', u'N5', u'N6', u'N7', u'G1', u'G2', u'G3', u'G4', u'G5', u'G6', u'G7', u'G8', u'G9', u'G10', u'G11', u'G12', u'G13', u'G14', u'G15', u'G16', u'PSP10', u'PSP20', u'PSP30', u'PSP40', u'PSP50', u'PSN10', u'PSN20', u'PSN30', u'PSN40', u'PSN50', u'PSN60', u'PSD10', u'PSD20', u'PSD30', u'PSD40', u'PSG10', u'PSG20', u'PSG30', u'PSG40', u'PSPTOT0', u'PSNTOT0', u'PSDTOT0', u'PSGTOT0', u'SIPSTOT0', u'AS1_10', u'AS1_20', u'AS1_30', u'AS1_40', u'AS2_10', u'AS2_20', u'AS3_10', u'AS3_20', u'AS3_30', u'AS4_10', u'AS4_20', u'AS4_30', u'AS5_10', u'AS5_20', u'AS5_30', u'AS5_40', u'AS6_10', u'AS6_20', u'AS6_30', u'AS6_40', u'AS7_10', u'AS7_20', u'AS7_30', u'AS7_40', u'AS7_50', u'AS7_60', u'AS7_70', u'AS7_80', u'AS1TOT0', u'AS2TOT0', u'AS3TOT0', u'AS4TOT0', u'AS5TOT0', u'AS6TOT0', u'AS7TOT0', u'CAARMSTOT0', u'SAPS_ghksrkr0', u'SAPS_akdtkd0', u'SAPS_rhldlgksgodehd0', u'SAPS_didtjdwjrtkrh0', u'SAPStot0', u'SANS_wjdehdensak0', u'SANS_akfdjqtdma0', u'SANS_andmldyr0', u'SANS_anzhorka0', u'SANS_wndmlfur0', u'SANStot0', u'GAF', u'GAFpastyr0', u'GAFpremorbid0', u'SOFASpresent0', u'SOFASpastyr0', u'SOFASpremorbid0', u'HAMA0', u'HAMD', u'YMS', u'BPRS0', u'parentalSES', u'panssTot', u'pTot', u'nTot', u'gTot']"
     ],
     "language": "python",
     "metadata": {},
     "outputs": [],
     "prompt_number": 12
    },
    {
     "cell_type": "markdown",
     "metadata": {},
     "source": [
      "##Relative connectivity"
     ]
    },
    {
     "cell_type": "code",
     "collapsed": false,
     "input": [
      "variableToCompare = 'relativeConnectivity'\n",
      "for COLUMN in ['segmentVolume','G8','GAFpastyr0']:\n",
      "    %R -i COLUMN\n",
      "    %R -i variableToCompare\n",
      "    %R -i df\n",
      "    %R -o pcorOut pcorOut <- pcor.test(df[variableToCompare],df[COLUMN],df['intracranialVolume'])\n",
      "    \n",
      "    if pcorOut[1] < 0.05:\n",
      "        print 'Partial correlation between {0} & {1}, controlled for ICV'.format(COLUMN,variableToCompare)\n",
      "        print '================================================================='\n",
      "        %R print(pcorOut)\n",
      "        print '\\n\\n\\n'\n"
     ],
     "language": "python",
     "metadata": {},
     "outputs": [
      {
       "output_type": "stream",
       "stream": "stdout",
       "text": [
        "Partial correlation between segmentVolume & relativeConnectivity, controlled for ICV\n",
        "=================================================================\n"
       ]
      },
      {
       "metadata": {},
       "output_type": "display_data",
       "text": [
        "   estimate      p.value statistic  n gp  Method\n",
        "1 0.7346479 2.358811e-06  4.719969 22  1 pearson\n"
       ]
      },
      {
       "output_type": "stream",
       "stream": "stdout",
       "text": [
        "\n",
        "\n",
        "\n",
        "\n",
        "Partial correlation between G8 & relativeConnectivity, controlled for ICV"
       ]
      },
      {
       "output_type": "stream",
       "stream": "stdout",
       "text": [
        "\n",
        "=================================================================\n"
       ]
      },
      {
       "metadata": {},
       "output_type": "display_data",
       "text": [
        "    estimate    p.value statistic  n gp  Method\n",
        "1 -0.4226273 0.04208882 -2.032641 22  1 pearson\n"
       ]
      },
      {
       "output_type": "stream",
       "stream": "stdout",
       "text": [
        "\n",
        "\n",
        "\n",
        "\n",
        "Partial correlation between GAFpastyr0 & relativeConnectivity, controlled for ICV"
       ]
      },
      {
       "output_type": "stream",
       "stream": "stdout",
       "text": [
        "\n",
        "=================================================================\n"
       ]
      },
      {
       "metadata": {},
       "output_type": "display_data",
       "text": [
        "   estimate      p.value statistic  n gp  Method\n",
        "1 0.6221346 0.0005326609   3.46377 22  1 pearson\n"
       ]
      },
      {
       "output_type": "stream",
       "stream": "stdout",
       "text": [
        "\n",
        "\n",
        "\n",
        "\n"
       ]
      }
     ],
     "prompt_number": 13
    },
    {
     "cell_type": "markdown",
     "metadata": {},
     "source": [
      "##Total connectivity"
     ]
    },
    {
     "cell_type": "code",
     "collapsed": false,
     "input": [
      "variableToCompare = 'totalConnectivity'\n",
      "for COLUMN in ['P3','P5','G7','G8','G11','GAFpastyr0']:\n",
      "    %R -i COLUMN\n",
      "    %R -i variableToCompare\n",
      "    %R -i df\n",
      "    %R -o pcorOut pcorOut <- pcor.test(df[variableToCompare],df[COLUMN],df['intracranialVolume'])\n",
      "    \n",
      "    if pcorOut[1] < 0.05:\n",
      "        print 'Partial correlation between {0} & {1}, controlled for ICV'.format(COLUMN,variableToCompare)\n",
      "        print '================================================================='\n",
      "        %R print(pcorOut)\n",
      "        print '\\n\\n\\n'\n"
     ],
     "language": "python",
     "metadata": {},
     "outputs": [
      {
       "output_type": "stream",
       "stream": "stdout",
       "text": [
        "Partial correlation between P3 & totalConnectivity, controlled for ICV\n",
        "=================================================================\n"
       ]
      },
      {
       "metadata": {},
       "output_type": "display_data",
       "text": [
        "    estimate p.value statistic  n gp  Method\n",
        "1 -0.5073443 0.01028 -2.566266 22  1 pearson\n"
       ]
      },
      {
       "output_type": "stream",
       "stream": "stdout",
       "text": [
        "\n",
        "\n",
        "\n",
        "\n",
        "Partial correlation between P5 & totalConnectivity, controlled for ICV"
       ]
      },
      {
       "output_type": "stream",
       "stream": "stdout",
       "text": [
        "\n",
        "=================================================================\n"
       ]
      },
      {
       "metadata": {},
       "output_type": "display_data",
       "text": [
        "    estimate    p.value statistic  n gp  Method\n",
        "1 -0.4477234 0.02906851 -2.182556 22  1 pearson\n"
       ]
      },
      {
       "output_type": "stream",
       "stream": "stdout",
       "text": [
        "\n",
        "\n",
        "\n",
        "\n",
        "Partial correlation between G7 & totalConnectivity, controlled for ICV"
       ]
      },
      {
       "output_type": "stream",
       "stream": "stdout",
       "text": [
        "\n",
        "=================================================================\n"
       ]
      },
      {
       "metadata": {},
       "output_type": "display_data",
       "text": [
        "   estimate    p.value statistic  n gp  Method\n",
        "1 0.4312957 0.03718363  2.083742 22  1 pearson\n"
       ]
      },
      {
       "output_type": "stream",
       "stream": "stdout",
       "text": [
        "\n",
        "\n",
        "\n",
        "\n",
        "Partial correlation between G8 & totalConnectivity, controlled for ICV"
       ]
      },
      {
       "output_type": "stream",
       "stream": "stdout",
       "text": [
        "\n",
        "=================================================================\n"
       ]
      },
      {
       "metadata": {},
       "output_type": "display_data",
       "text": [
        "    estimate    p.value statistic  n gp  Method\n",
        "1 -0.4538661 0.02640498 -2.220203 22  1 pearson\n"
       ]
      },
      {
       "output_type": "stream",
       "stream": "stdout",
       "text": [
        "\n",
        "\n",
        "\n",
        "\n",
        "Partial correlation between G11 & totalConnectivity, controlled for ICV"
       ]
      },
      {
       "output_type": "stream",
       "stream": "stdout",
       "text": [
        "\n",
        "=================================================================\n"
       ]
      },
      {
       "metadata": {},
       "output_type": "display_data",
       "text": [
        "   estimate    p.value statistic  n gp  Method\n",
        "1 0.4627253 0.02289367  2.275204 22  1 pearson\n"
       ]
      },
      {
       "output_type": "stream",
       "stream": "stdout",
       "text": [
        "\n",
        "\n",
        "\n",
        "\n",
        "Partial correlation between GAFpastyr0 & totalConnectivity, controlled for ICV"
       ]
      },
      {
       "output_type": "stream",
       "stream": "stdout",
       "text": [
        "\n",
        "=================================================================\n"
       ]
      },
      {
       "metadata": {},
       "output_type": "display_data",
       "text": [
        "   estimate  p.value statistic  n gp  Method\n",
        "1 0.5010313 0.011618   2.52354 22  1 pearson\n"
       ]
      },
      {
       "output_type": "stream",
       "stream": "stdout",
       "text": [
        "\n",
        "\n",
        "\n",
        "\n"
       ]
      }
     ],
     "prompt_number": 15
    },
    {
     "cell_type": "code",
     "collapsed": false,
     "input": [
      "dictionary={'\uc778\uac74\ube44 \uc785\uae09':[1175000,587130,602280]}"
     ],
     "language": "python",
     "metadata": {},
     "outputs": [],
     "prompt_number": 1
    },
    {
     "cell_type": "code",
     "collapsed": false,
     "input": [
      "import pandas as pd"
     ],
     "language": "python",
     "metadata": {},
     "outputs": [],
     "prompt_number": 2
    },
    {
     "cell_type": "code",
     "collapsed": false,
     "input": [
      "df=pd.DataFrame(dictionary)"
     ],
     "language": "python",
     "metadata": {},
     "outputs": [],
     "prompt_number": 4
    },
    {
     "cell_type": "code",
     "collapsed": false,
     "input": [
      "df['\uc785\uae08 \ud569']=df.cumsum()"
     ],
     "language": "python",
     "metadata": {},
     "outputs": [
      {
       "ename": "ValueError",
       "evalue": "could not broadcast input array from shape (2,3) into shape (3)",
       "output_type": "pyerr",
       "traceback": [
        "\u001b[0;31m---------------------------------------------------------------------------\u001b[0m\n\u001b[0;31mValueError\u001b[0m                                Traceback (most recent call last)",
        "\u001b[0;32m<ipython-input-15-a5b5c9203329>\u001b[0m in \u001b[0;36m<module>\u001b[0;34m()\u001b[0m\n\u001b[0;32m----> 1\u001b[0;31m \u001b[0mdf\u001b[0m\u001b[0;34m[\u001b[0m\u001b[0;34m'\uc785\uae08 \ud569'\u001b[0m\u001b[0;34m]\u001b[0m\u001b[0;34m=\u001b[0m\u001b[0mdf\u001b[0m\u001b[0;34m.\u001b[0m\u001b[0mcumsum\u001b[0m\u001b[0;34m(\u001b[0m\u001b[0;34m)\u001b[0m\u001b[0;34m\u001b[0m\u001b[0m\n\u001b[0m",
        "\u001b[0;32m/Users/admin/anaconda/lib/python2.7/site-packages/pandas/core/frame.pyc\u001b[0m in \u001b[0;36m__setitem__\u001b[0;34m(self, key, value)\u001b[0m\n\u001b[1;32m   2117\u001b[0m         \u001b[0;32melse\u001b[0m\u001b[0;34m:\u001b[0m\u001b[0;34m\u001b[0m\u001b[0m\n\u001b[1;32m   2118\u001b[0m             \u001b[0;31m# set column\u001b[0m\u001b[0;34m\u001b[0m\u001b[0;34m\u001b[0m\u001b[0m\n\u001b[0;32m-> 2119\u001b[0;31m             \u001b[0mself\u001b[0m\u001b[0;34m.\u001b[0m\u001b[0m_set_item\u001b[0m\u001b[0;34m(\u001b[0m\u001b[0mkey\u001b[0m\u001b[0;34m,\u001b[0m \u001b[0mvalue\u001b[0m\u001b[0;34m)\u001b[0m\u001b[0;34m\u001b[0m\u001b[0m\n\u001b[0m\u001b[1;32m   2120\u001b[0m \u001b[0;34m\u001b[0m\u001b[0m\n\u001b[1;32m   2121\u001b[0m     \u001b[0;32mdef\u001b[0m \u001b[0m_setitem_slice\u001b[0m\u001b[0;34m(\u001b[0m\u001b[0mself\u001b[0m\u001b[0;34m,\u001b[0m \u001b[0mkey\u001b[0m\u001b[0;34m,\u001b[0m \u001b[0mvalue\u001b[0m\u001b[0;34m)\u001b[0m\u001b[0;34m:\u001b[0m\u001b[0;34m\u001b[0m\u001b[0m\n",
        "\u001b[0;32m/Users/admin/anaconda/lib/python2.7/site-packages/pandas/core/frame.pyc\u001b[0m in \u001b[0;36m_set_item\u001b[0;34m(self, key, value)\u001b[0m\n\u001b[1;32m   2164\u001b[0m         \"\"\"\n\u001b[1;32m   2165\u001b[0m         \u001b[0mvalue\u001b[0m \u001b[0;34m=\u001b[0m \u001b[0mself\u001b[0m\u001b[0;34m.\u001b[0m\u001b[0m_sanitize_column\u001b[0m\u001b[0;34m(\u001b[0m\u001b[0mkey\u001b[0m\u001b[0;34m,\u001b[0m \u001b[0mvalue\u001b[0m\u001b[0;34m)\u001b[0m\u001b[0;34m\u001b[0m\u001b[0m\n\u001b[0;32m-> 2166\u001b[0;31m         \u001b[0mNDFrame\u001b[0m\u001b[0;34m.\u001b[0m\u001b[0m_set_item\u001b[0m\u001b[0;34m(\u001b[0m\u001b[0mself\u001b[0m\u001b[0;34m,\u001b[0m \u001b[0mkey\u001b[0m\u001b[0;34m,\u001b[0m \u001b[0mvalue\u001b[0m\u001b[0;34m)\u001b[0m\u001b[0;34m\u001b[0m\u001b[0m\n\u001b[0m\u001b[1;32m   2167\u001b[0m \u001b[0;34m\u001b[0m\u001b[0m\n\u001b[1;32m   2168\u001b[0m     \u001b[0;32mdef\u001b[0m \u001b[0minsert\u001b[0m\u001b[0;34m(\u001b[0m\u001b[0mself\u001b[0m\u001b[0;34m,\u001b[0m \u001b[0mloc\u001b[0m\u001b[0;34m,\u001b[0m \u001b[0mcolumn\u001b[0m\u001b[0;34m,\u001b[0m \u001b[0mvalue\u001b[0m\u001b[0;34m,\u001b[0m \u001b[0mallow_duplicates\u001b[0m\u001b[0;34m=\u001b[0m\u001b[0mFalse\u001b[0m\u001b[0;34m)\u001b[0m\u001b[0;34m:\u001b[0m\u001b[0;34m\u001b[0m\u001b[0m\n",
        "\u001b[0;32m/Users/admin/anaconda/lib/python2.7/site-packages/pandas/core/generic.pyc\u001b[0m in \u001b[0;36m_set_item\u001b[0;34m(self, key, value)\u001b[0m\n\u001b[1;32m    677\u001b[0m \u001b[0;34m\u001b[0m\u001b[0m\n\u001b[1;32m    678\u001b[0m     \u001b[0;32mdef\u001b[0m \u001b[0m_set_item\u001b[0m\u001b[0;34m(\u001b[0m\u001b[0mself\u001b[0m\u001b[0;34m,\u001b[0m \u001b[0mkey\u001b[0m\u001b[0;34m,\u001b[0m \u001b[0mvalue\u001b[0m\u001b[0;34m)\u001b[0m\u001b[0;34m:\u001b[0m\u001b[0;34m\u001b[0m\u001b[0m\n\u001b[0;32m--> 679\u001b[0;31m         \u001b[0mself\u001b[0m\u001b[0;34m.\u001b[0m\u001b[0m_data\u001b[0m\u001b[0;34m.\u001b[0m\u001b[0mset\u001b[0m\u001b[0;34m(\u001b[0m\u001b[0mkey\u001b[0m\u001b[0;34m,\u001b[0m \u001b[0mvalue\u001b[0m\u001b[0;34m)\u001b[0m\u001b[0;34m\u001b[0m\u001b[0m\n\u001b[0m\u001b[1;32m    680\u001b[0m         \u001b[0mself\u001b[0m\u001b[0;34m.\u001b[0m\u001b[0m_clear_item_cache\u001b[0m\u001b[0;34m(\u001b[0m\u001b[0;34m)\u001b[0m\u001b[0;34m\u001b[0m\u001b[0m\n\u001b[1;32m    681\u001b[0m \u001b[0;34m\u001b[0m\u001b[0m\n",
        "\u001b[0;32m/Users/admin/anaconda/lib/python2.7/site-packages/pandas/core/internals.pyc\u001b[0m in \u001b[0;36mset\u001b[0;34m(self, item, value)\u001b[0m\n\u001b[1;32m   1743\u001b[0m             \u001b[0mloc\u001b[0m \u001b[0;34m=\u001b[0m \u001b[0mself\u001b[0m\u001b[0;34m.\u001b[0m\u001b[0mitems\u001b[0m\u001b[0;34m.\u001b[0m\u001b[0mget_loc\u001b[0m\u001b[0;34m(\u001b[0m\u001b[0mitem\u001b[0m\u001b[0;34m)\u001b[0m\u001b[0;34m\u001b[0m\u001b[0m\n\u001b[1;32m   1744\u001b[0m             \u001b[0;32mif\u001b[0m \u001b[0misinstance\u001b[0m\u001b[0;34m(\u001b[0m\u001b[0mloc\u001b[0m\u001b[0;34m,\u001b[0m \u001b[0mint\u001b[0m\u001b[0;34m)\u001b[0m\u001b[0;34m:\u001b[0m\u001b[0;34m\u001b[0m\u001b[0m\n\u001b[0;32m-> 1745\u001b[0;31m                 \u001b[0m_set_item\u001b[0m\u001b[0;34m(\u001b[0m\u001b[0mself\u001b[0m\u001b[0;34m.\u001b[0m\u001b[0mitems\u001b[0m\u001b[0;34m[\u001b[0m\u001b[0mloc\u001b[0m\u001b[0;34m]\u001b[0m\u001b[0;34m,\u001b[0m \u001b[0mvalue\u001b[0m\u001b[0;34m)\u001b[0m\u001b[0;34m\u001b[0m\u001b[0m\n\u001b[0m\u001b[1;32m   1746\u001b[0m             \u001b[0;32melse\u001b[0m\u001b[0;34m:\u001b[0m\u001b[0;34m\u001b[0m\u001b[0m\n\u001b[1;32m   1747\u001b[0m                 \u001b[0msubset\u001b[0m \u001b[0;34m=\u001b[0m \u001b[0mself\u001b[0m\u001b[0;34m.\u001b[0m\u001b[0mitems\u001b[0m\u001b[0;34m[\u001b[0m\u001b[0mloc\u001b[0m\u001b[0;34m]\u001b[0m\u001b[0;34m\u001b[0m\u001b[0m\n",
        "\u001b[0;32m/Users/admin/anaconda/lib/python2.7/site-packages/pandas/core/internals.pyc\u001b[0m in \u001b[0;36m_set_item\u001b[0;34m(item, arr)\u001b[0m\n\u001b[1;32m   1737\u001b[0m                 \u001b[0mself\u001b[0m\u001b[0;34m.\u001b[0m\u001b[0m_add_new_block\u001b[0m\u001b[0;34m(\u001b[0m\u001b[0mitem\u001b[0m\u001b[0;34m,\u001b[0m \u001b[0marr\u001b[0m\u001b[0;34m,\u001b[0m \u001b[0mloc\u001b[0m\u001b[0;34m=\u001b[0m\u001b[0mNone\u001b[0m\u001b[0;34m)\u001b[0m\u001b[0;34m\u001b[0m\u001b[0m\n\u001b[1;32m   1738\u001b[0m             \u001b[0;32melse\u001b[0m\u001b[0;34m:\u001b[0m\u001b[0;34m\u001b[0m\u001b[0m\n\u001b[0;32m-> 1739\u001b[0;31m                 \u001b[0mblock\u001b[0m\u001b[0;34m.\u001b[0m\u001b[0mset\u001b[0m\u001b[0;34m(\u001b[0m\u001b[0mitem\u001b[0m\u001b[0;34m,\u001b[0m \u001b[0marr\u001b[0m\u001b[0;34m)\u001b[0m\u001b[0;34m\u001b[0m\u001b[0m\n\u001b[0m\u001b[1;32m   1740\u001b[0m \u001b[0;34m\u001b[0m\u001b[0m\n\u001b[1;32m   1741\u001b[0m         \u001b[0;32mtry\u001b[0m\u001b[0;34m:\u001b[0m\u001b[0;34m\u001b[0m\u001b[0m\n",
        "\u001b[0;32m/Users/admin/anaconda/lib/python2.7/site-packages/pandas/core/internals.pyc\u001b[0m in \u001b[0;36mset\u001b[0;34m(self, item, value)\u001b[0m\n\u001b[1;32m    195\u001b[0m         \"\"\"\n\u001b[1;32m    196\u001b[0m         \u001b[0mloc\u001b[0m \u001b[0;34m=\u001b[0m \u001b[0mself\u001b[0m\u001b[0;34m.\u001b[0m\u001b[0mitems\u001b[0m\u001b[0;34m.\u001b[0m\u001b[0mget_loc\u001b[0m\u001b[0;34m(\u001b[0m\u001b[0mitem\u001b[0m\u001b[0;34m)\u001b[0m\u001b[0;34m\u001b[0m\u001b[0m\n\u001b[0;32m--> 197\u001b[0;31m         \u001b[0mself\u001b[0m\u001b[0;34m.\u001b[0m\u001b[0mvalues\u001b[0m\u001b[0;34m[\u001b[0m\u001b[0mloc\u001b[0m\u001b[0;34m]\u001b[0m \u001b[0;34m=\u001b[0m \u001b[0mvalue\u001b[0m\u001b[0;34m\u001b[0m\u001b[0m\n\u001b[0m\u001b[1;32m    198\u001b[0m \u001b[0;34m\u001b[0m\u001b[0m\n\u001b[1;32m    199\u001b[0m     \u001b[0;32mdef\u001b[0m \u001b[0mdelete\u001b[0m\u001b[0;34m(\u001b[0m\u001b[0mself\u001b[0m\u001b[0;34m,\u001b[0m \u001b[0mitem\u001b[0m\u001b[0;34m)\u001b[0m\u001b[0;34m:\u001b[0m\u001b[0;34m\u001b[0m\u001b[0m\n",
        "\u001b[0;31mValueError\u001b[0m: could not broadcast input array from shape (2,3) into shape (3)"
       ]
      }
     ],
     "prompt_number": 15
    },
    {
     "cell_type": "code",
     "collapsed": false,
     "input": [
      "df"
     ],
     "language": "python",
     "metadata": {},
     "outputs": [
      {
       "html": [
        "<div style=\"max-height:1000px;max-width:1500px;overflow:auto;\">\n",
        "<table border=\"1\" class=\"dataframe\">\n",
        "  <thead>\n",
        "    <tr style=\"text-align: right;\">\n",
        "      <th></th>\n",
        "      <th>\uc778\uac74\ube44 \uc785\uae09</th>\n",
        "      <th>\uc785\uae08 \ud569</th>\n",
        "    </tr>\n",
        "  </thead>\n",
        "  <tbody>\n",
        "    <tr>\n",
        "      <th>0</th>\n",
        "      <td> 1175000</td>\n",
        "      <td>NaN</td>\n",
        "    </tr>\n",
        "    <tr>\n",
        "      <th>1</th>\n",
        "      <td>  587130</td>\n",
        "      <td>NaN</td>\n",
        "    </tr>\n",
        "    <tr>\n",
        "      <th>2</th>\n",
        "      <td>  602280</td>\n",
        "      <td>NaN</td>\n",
        "    </tr>\n",
        "  </tbody>\n",
        "</table>\n",
        "</div>"
       ],
       "metadata": {},
       "output_type": "pyout",
       "prompt_number": 16,
       "text": [
        "    \uc778\uac74\ube44 \uc785\uae09  \uc785\uae08 \ud569\n",
        "0  1175000   NaN\n",
        "1   587130   NaN\n",
        "2   602280   NaN"
       ]
      }
     ],
     "prompt_number": 16
    },
    {
     "cell_type": "code",
     "collapsed": false,
     "input": [
      "df.sum()-1200000"
     ],
     "language": "python",
     "metadata": {},
     "outputs": [
      {
       "metadata": {},
       "output_type": "pyout",
       "prompt_number": 18,
       "text": [
        "\uc778\uac74\ube44 \uc785\uae09    1164410\n",
        "\uc785\uae08 \ud569          NaN\n",
        "dtype: float64"
       ]
      }
     ],
     "prompt_number": 18
    },
    {
     "cell_type": "code",
     "collapsed": false,
     "input": [
      "\u02dc\u02dc"
     ],
     "language": "python",
     "metadata": {},
     "outputs": []
    },
    {
     "cell_type": "code",
     "collapsed": false,
     "input": [],
     "language": "python",
     "metadata": {},
     "outputs": []
    }
   ],
   "metadata": {}
  }
 ]
}