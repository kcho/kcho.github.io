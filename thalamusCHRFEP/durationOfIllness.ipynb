{
 "metadata": {
  "name": ""
 },
 "nbformat": 3,
 "nbformat_minor": 0,
 "worksheets": [
  {
   "cells": [
    {
     "cell_type": "code",
     "collapsed": false,
     "input": [
      "import pandas as pd\n",
      "allData=pd.read_csv(\"/Users/admin/Dropbox/CHRvsNOR/2014_stats/37_38_22_thr10/LR_averaged_thalData.csv\",sep='\\t')\n",
      "allData.columns=[u'subject', u'group', u'cortex', u'intracranialVolume', u'cortexVolume', u'relativeConnectivity', u'segmentVolume', u'thalamusVolume', u'totalConnectivity', u'sex', u'age', u'bday', u'education', u'hand', u'IQ', u'P1', u'P2', u'P3', u'P4', u'P5', u'P6', u'P7', u'N1', u'N2', u'N3', u'N4', u'N5', u'N6', u'N7', u'G1', u'G2', u'G3', u'G4', u'G5', u'G6', u'G7', u'G8', u'G9', u'G10', u'G11', u'G12', u'G13', u'G14', u'G15', u'G16', u'PSP10', u'PSP20', u'PSP30', u'PSP40', u'PSP50', u'PSN10', u'PSN20', u'PSN30', u'PSN40', u'PSN50', u'PSN60', u'PSD10', u'PSD20', u'PSD30', u'PSD40', u'PSG10', u'PSG20', u'PSG30', u'PSG40', u'PSPTOT0', u'PSNTOT0', u'PSDTOT0', u'PSGTOT0', u'SIPSTOT0', u'AS1_10', u'AS1_20', u'AS1_30', u'AS1_40', u'AS2_10', u'AS2_20', u'AS3_10', u'AS3_20', u'AS3_30', u'AS4_10', u'AS4_20', u'AS4_30', u'AS5_10', u'AS5_20', u'AS5_30', u'AS5_40', u'AS6_10', u'AS6_20', u'AS6_30', u'AS6_40', u'AS7_10', u'AS7_20', u'AS7_30', u'AS7_40', u'AS7_50', u'AS7_60', u'AS7_70', u'AS7_80', u'AS1TOT0', u'AS2TOT0', u'AS3TOT0', u'AS4TOT0', u'AS5TOT0', u'AS6TOT0', u'AS7TOT0', u'CAARMSTOT0', u'SAPS_ghksrkr0', u'SAPS_akdtkd0', u'SAPS_rhldlgksgodehd0', u'SAPS_didtjdwjrtkrh0', u'SAPStot0', u'SANS_wjdehdensak0', u'SANS_akfdjqtdma0', u'SANS_andmldyr0', u'SANS_anzhorka0', u'SANS_wndmlfur0', u'SANStot0', u'GAF', u'GAFpastyr0', u'GAFpremorbid0', u'SOFASpresent0', u'SOFASpastyr0', u'SOFASpremorbid0', u'HAMA0', u'HAMD', u'YMS', u'BPRS0', u'parentalSES', u'panssTot', u'pTot', u'nTot', u'gTot']"
     ],
     "language": "python",
     "metadata": {},
     "outputs": [],
     "prompt_number": 1
    },
    {
     "cell_type": "code",
     "collapsed": false,
     "input": [
      "DOI = pd.read_excel(\"/Users/admin/Dropbox/durationOfIllness.xlsx\",\"Sheet1\")"
     ],
     "language": "python",
     "metadata": {},
     "outputs": [],
     "prompt_number": 4
    },
    {
     "cell_type": "code",
     "collapsed": false,
     "input": [
      "DOI.columns=['DOI','koreanName','patientID']"
     ],
     "language": "python",
     "metadata": {},
     "outputs": [],
     "prompt_number": 7
    },
    {
     "cell_type": "code",
     "collapsed": false,
     "input": [
      "ha = pd.ExcelFile(\"finalAllDataWithKoreanName.xls\")"
     ],
     "language": "python",
     "metadata": {},
     "outputs": [],
     "prompt_number": 12
    },
    {
     "cell_type": "code",
     "collapsed": false,
     "input": [
      "ha.sheet_names"
     ],
     "language": "python",
     "metadata": {},
     "outputs": [
      {
       "metadata": {},
       "output_type": "pyout",
       "prompt_number": 15,
       "text": [
        "[u'allData']"
       ]
      }
     ],
     "prompt_number": 15
    },
    {
     "cell_type": "code",
     "collapsed": false,
     "input": [
      "allData2 = pd.read_excel(\"finalAllDataWithKoreanName.xls\",'allData')"
     ],
     "language": "python",
     "metadata": {},
     "outputs": [],
     "prompt_number": 16
    },
    {
     "cell_type": "code",
     "collapsed": false,
     "input": [
      "len(allData2)"
     ],
     "language": "python",
     "metadata": {},
     "outputs": [
      {
       "metadata": {},
       "output_type": "pyout",
       "prompt_number": 22,
       "text": [
        "3168"
       ]
      }
     ],
     "prompt_number": 22
    },
    {
     "cell_type": "code",
     "collapsed": false,
     "input": [
      "allData_DOI = pd.merge(allData2,\n",
      "         DOI,\n",
      "         left_on=\"NAME\",\n",
      "         right_on=\"koreanName\",\n",
      "         how=\"inner\")"
     ],
     "language": "python",
     "metadata": {},
     "outputs": [],
     "prompt_number": 23
    },
    {
     "cell_type": "code",
     "collapsed": false,
     "input": [
      "len(allData)"
     ],
     "language": "python",
     "metadata": {},
     "outputs": [
      {
       "metadata": {},
       "output_type": "pyout",
       "prompt_number": 26,
       "text": [
        "776"
       ]
      }
     ],
     "prompt_number": 26
    },
    {
     "cell_type": "code",
     "collapsed": false,
     "input": [
      "[item for item in allData_DOI.columns if item in allData.columns]"
     ],
     "language": "python",
     "metadata": {},
     "outputs": [
      {
       "metadata": {},
       "output_type": "pyout",
       "prompt_number": 33,
       "text": [
        "[u'subject',\n",
        " u'intracranialVolume',\n",
        " u'group',\n",
        " u'cortex',\n",
        " u'cortexVolume',\n",
        " u'relativeConnectivity',\n",
        " u'segmentVolume',\n",
        " u'thalamusVolume',\n",
        " u'totalConnectivity']"
       ]
      }
     ],
     "prompt_number": 33
    },
    {
     "cell_type": "code",
     "collapsed": false,
     "input": [
      "len(allData[allData['cortex']=='OFC'][['subject','group','totalConnectivity']])"
     ],
     "language": "python",
     "metadata": {},
     "outputs": [
      {
       "metadata": {},
       "output_type": "pyout",
       "prompt_number": 67,
       "text": [
        "97"
       ]
      }
     ],
     "prompt_number": 67
    },
    {
     "cell_type": "code",
     "collapsed": false,
     "input": [
      "doiDf = pd.merge(allData[allData['cortex']=='PC'][['subject','group','totalConnectivity']],\n",
      "         allData_DOI[['subject','koreanName','DOI']],\n",
      "         on= 'subject').drop_duplicates()"
     ],
     "language": "python",
     "metadata": {},
     "outputs": [],
     "prompt_number": 92
    },
    {
     "cell_type": "code",
     "collapsed": false,
     "input": [
      "doiDf = doiDf.drop(doiDf.DOI.idxmax())"
     ],
     "language": "python",
     "metadata": {},
     "outputs": [],
     "prompt_number": 93
    },
    {
     "cell_type": "code",
     "collapsed": false,
     "input": [
      "%load_ext rmagic\n",
      "\n",
      "%R require(ggplot2)"
     ],
     "language": "python",
     "metadata": {},
     "outputs": [
      {
       "output_type": "stream",
       "stream": "stdout",
       "text": [
        "The rmagic extension is already loaded. To reload it, use:\n",
        "  %reload_ext rmagic\n"
       ]
      },
      {
       "metadata": {},
       "output_type": "pyout",
       "prompt_number": 94,
       "text": [
        "array([1], dtype=int32)"
       ]
      }
     ],
     "prompt_number": 94
    },
    {
     "cell_type": "code",
     "collapsed": false,
     "input": [
      "%R -i doiDf\n",
      "%R p <- ggplot(doiDf, aes(totalConnectivity,DOI))\n",
      "%R p <- p + geom_point()\n",
      "%R p <- p + geom_smooth(method=lm)\n",
      "%R print(p)"
     ],
     "language": "python",
     "metadata": {},
     "outputs": [
      {
       "metadata": {},
       "output_type": "display_data",
       "png": "[encoded data removed]"
      },
      {
       "metadata": {},
       "output_type": "pyout",
       "prompt_number": 95,
       "text": [
        "array([<rpy2.rinterface.SexpVector - Python:0x1125ff9a8 / R:0x11e2ac428>,\n",
        "       <rpy2.rinterface.SexpVector - Python:0x1125ff9c0 / R:0x10738e028>,\n",
        "       <rpy2.rinterface.SexpVector - Python:0x1125ff9d8 / R:0x10a062298>], dtype=object)"
       ]
      }
     ],
     "prompt_number": 95
    },
    {
     "cell_type": "code",
     "collapsed": false,
     "input": [
      "        df = allData[allData.group==GROUP][allData.cortex==CORTEX]\n",
      "        for COLUMN in 'GAF','pTot','nTot','pTot':\n",
      "            coeff,pVal=scipy.stats.pearsonr(df[thingsToCheck],df[COLUMN])\n",
      "            if pVal < 0.05:"
     ],
     "language": "python",
     "metadata": {},
     "outputs": []
    }
   ],
   "metadata": {}
  }
 ]
}