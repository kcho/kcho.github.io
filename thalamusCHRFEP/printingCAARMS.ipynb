{
 "metadata": {
  "name": ""
 },
 "nbformat": 3,
 "nbformat_minor": 0,
 "worksheets": [
  {
   "cells": [
    {
     "cell_type": "code",
     "collapsed": false,
     "input": [
      "import pandas as pd\n",
      "#pd.set_option('max_rows','5000')\n",
      "#pd.set_option('max_columns','5000')"
     ],
     "language": "python",
     "metadata": {},
     "outputs": [],
     "prompt_number": 7
    },
    {
     "cell_type": "code",
     "collapsed": false,
     "input": [
      "df = pd.read_excel(\"/Users/admin/Downloads/CAARMS.xlsx\",\"RATE\")"
     ],
     "language": "python",
     "metadata": {},
     "outputs": [],
     "prompt_number": 8
    },
    {
     "cell_type": "code",
     "collapsed": false,
     "input": [
      "df.ix["
     ],
     "language": "python",
     "metadata": {},
     "outputs": [
      {
       "html": [
        "<pre>\n",
        "&lt;class 'pandas.core.frame.DataFrame'&gt;\n",
        "Index: 92 entries, CHR01_MHY to FEP36_LKJ\n",
        "Data columns (total 37 columns):\n",
        "\uc774\ub984            92  non-null values\n",
        "AS1_10        66  non-null values\n",
        "AS1_20        65  non-null values\n",
        "AS1_30        66  non-null values\n",
        "AS1_40        66  non-null values\n",
        "AS2_10        66  non-null values\n",
        "AS2_20        66  non-null values\n",
        "AS3_10        66  non-null values\n",
        "AS3_20        66  non-null values\n",
        "AS3_30        66  non-null values\n",
        "AS4_10        66  non-null values\n",
        "AS4_20        66  non-null values\n",
        "AS4_30        66  non-null values\n",
        "AS5_10        66  non-null values\n",
        "AS5_20        66  non-null values\n",
        "AS5_30        66  non-null values\n",
        "AS5_40        66  non-null values\n",
        "AS6_10        66  non-null values\n",
        "AS6_20        66  non-null values\n",
        "AS6_30        66  non-null values\n",
        "AS6_40        66  non-null values\n",
        "AS7_10        66  non-null values\n",
        "AS7_20        66  non-null values\n",
        "AS7_30        66  non-null values\n",
        "AS7_40        66  non-null values\n",
        "AS7_50        66  non-null values\n",
        "AS7_60        66  non-null values\n",
        "AS7_70        66  non-null values\n",
        "AS7_80        66  non-null values\n",
        "AS1TOT0       65  non-null values\n",
        "AS2TOT0       66  non-null values\n",
        "AS3TOT0       66  non-null values\n",
        "AS4TOT0       66  non-null values\n",
        "AS5TOT0       66  non-null values\n",
        "AS6TOT0       66  non-null values\n",
        "AS7TOT0       66  non-null values\n",
        "CAARMSTOT0    65  non-null values\n",
        "dtypes: float64(36), object(1)\n",
        "</pre>"
       ],
       "metadata": {},
       "output_type": "pyout",
       "prompt_number": 18,
       "text": [
        "<class 'pandas.core.frame.DataFrame'>\n",
        "Index: 92 entries, CHR01_MHY to FEP36_LKJ\n",
        "Data columns (total 37 columns):\n",
        "\uc774\ub984            92  non-null values\n",
        "AS1_10        66  non-null values\n",
        "AS1_20        65  non-null values\n",
        "AS1_30        66  non-null values\n",
        "AS1_40        66  non-null values\n",
        "AS2_10        66  non-null values\n",
        "AS2_20        66  non-null values\n",
        "AS3_10        66  non-null values\n",
        "AS3_20        66  non-null values\n",
        "AS3_30        66  non-null values\n",
        "AS4_10        66  non-null values\n",
        "AS4_20        66  non-null values\n",
        "AS4_30        66  non-null values\n",
        "AS5_10        66  non-null values\n",
        "AS5_20        66  non-null values\n",
        "AS5_30        66  non-null values\n",
        "AS5_40        66  non-null values\n",
        "AS6_10        66  non-null values\n",
        "AS6_20        66  non-null values\n",
        "AS6_30        66  non-null values\n",
        "AS6_40        66  non-null values\n",
        "AS7_10        66  non-null values\n",
        "AS7_20        66  non-null values\n",
        "AS7_30        66  non-null values\n",
        "AS7_40        66  non-null values\n",
        "AS7_50        66  non-null values\n",
        "AS7_60        66  non-null values\n",
        "AS7_70        66  non-null values\n",
        "AS7_80        66  non-null values\n",
        "AS1TOT0       65  non-null values\n",
        "AS2TOT0       66  non-null values\n",
        "AS3TOT0       66  non-null values\n",
        "AS4TOT0       66  non-null values\n",
        "AS5TOT0       66  non-null values\n",
        "AS6TOT0       66  non-null values\n",
        "AS7TOT0       66  non-null values\n",
        "CAARMSTOT0    65  non-null values\n",
        "dtypes: float64(36), object(1)"
       ]
      }
     ],
     "prompt_number": 18
    },
    {
     "cell_type": "code",
     "collapsed": false,
     "input": [
      "demoTable=pd.read_csv(\"/Users/admin/Dropbox/CHRvsNOR/2014_stats/37_38_22_thr10/demoTable.csv\", sep='\\t')\n",
      "print 'CHR :', len(demoTable[demoTable.group_x=='CHR'])"
     ],
     "language": "python",
     "metadata": {},
     "outputs": [
      {
       "output_type": "stream",
       "stream": "stdout",
       "text": [
        "CHR : 38\n"
       ]
      }
     ],
     "prompt_number": 27
    },
    {
     "cell_type": "code",
     "collapsed": false,
     "input": [
      "df.ix[demoTable[demoTable['group_x']=='CHR'].subject].mean()"
     ],
     "language": "python",
     "metadata": {},
     "outputs": [
      {
       "metadata": {},
       "output_type": "pyout",
       "prompt_number": 28,
       "text": [
        "AS1_10         2.789474\n",
        "AS1_20         2.973684\n",
        "AS1_30         1.947368\n",
        "AS1_40         1.631579\n",
        "AS2_10         2.078947\n",
        "AS2_20         1.289474\n",
        "AS3_10         1.657895\n",
        "AS3_20         2.131579\n",
        "AS3_30         0.421053\n",
        "AS4_10         1.657895\n",
        "AS4_20         2.894737\n",
        "AS4_30         2.631579\n",
        "AS5_10         3.184211\n",
        "AS5_20         3.526316\n",
        "AS5_30         0.684211\n",
        "AS5_40         1.131579\n",
        "AS6_10         0.552632\n",
        "AS6_20         0.342105\n",
        "AS6_30         0.789474\n",
        "AS6_40         0.657895\n",
        "AS7_10         0.184211\n",
        "AS7_20         2.763158\n",
        "AS7_30         1.342105\n",
        "AS7_40         1.184211\n",
        "AS7_50         2.578947\n",
        "AS7_60         1.500000\n",
        "AS7_70         0.368421\n",
        "AS7_80         2.763158\n",
        "AS1TOT0        9.342105\n",
        "AS2TOT0        3.368421\n",
        "AS3TOT0        4.210526\n",
        "AS4TOT0        7.184211\n",
        "AS5TOT0        8.526316\n",
        "AS6TOT0        2.342105\n",
        "AS7TOT0       12.684211\n",
        "CAARMSTOT0    47.657895\n",
        "dtype: float64"
       ]
      }
     ],
     "prompt_number": 28
    },
    {
     "cell_type": "code",
     "collapsed": false,
     "input": [
      "df.ix[demoTable[demoTable['group_x']=='CHR'].subject].std()"
     ],
     "language": "python",
     "metadata": {},
     "outputs": [
      {
       "metadata": {},
       "output_type": "pyout",
       "prompt_number": 29,
       "text": [
        "AS1_10         1.646584\n",
        "AS1_20         1.442349\n",
        "AS1_30         1.675699\n",
        "AS1_40         1.261082\n",
        "AS2_10         1.216588\n",
        "AS2_20         1.228224\n",
        "AS3_10         1.279280\n",
        "AS3_20         1.211902\n",
        "AS3_30         0.758076\n",
        "AS4_10         1.380879\n",
        "AS4_20         1.225616\n",
        "AS4_30         1.383709\n",
        "AS5_10         1.574377\n",
        "AS5_20         1.132728\n",
        "AS5_30         1.164921\n",
        "AS5_40         1.378818\n",
        "AS6_10         0.978067\n",
        "AS6_20         0.745303\n",
        "AS6_30         1.527370\n",
        "AS6_40         1.121686\n",
        "AS7_10         0.562584\n",
        "AS7_20         1.459993\n",
        "AS7_30         1.236305\n",
        "AS7_40         1.227066\n",
        "AS7_50         1.463642\n",
        "AS7_60         1.639875\n",
        "AS7_70         0.785719\n",
        "AS7_80         1.792389\n",
        "AS1TOT0        3.207056\n",
        "AS2TOT0        2.282969\n",
        "AS3TOT0        2.231929\n",
        "AS4TOT0        3.303195\n",
        "AS5TOT0        3.718012\n",
        "AS6TOT0        3.257227\n",
        "AS7TOT0        6.076562\n",
        "CAARMSTOT0    14.878383\n",
        "dtype: float64"
       ]
      }
     ],
     "prompt_number": 29
    },
    {
     "cell_type": "heading",
     "level": 1,
     "metadata": {},
     "source": [
      "CAARMS for other groups?"
     ]
    },
    {
     "cell_type": "code",
     "collapsed": false,
     "input": [
      "excelFile = pd.ExcelFile(\"/Users/admin/Google Drive/CAARMS.xlsx\")"
     ],
     "language": "python",
     "metadata": {},
     "outputs": [],
     "prompt_number": 30
    },
    {
     "cell_type": "code",
     "collapsed": false,
     "input": [
      "clinicalInfoFromAccess = excelFile.parse('Sheet1')"
     ],
     "language": "python",
     "metadata": {},
     "outputs": [],
     "prompt_number": 33
    },
    {
     "cell_type": "code",
     "collapsed": false,
     "input": [
      "    clinicalInfoFromAccess.columns"
     ],
     "language": "python",
     "metadata": {},
     "outputs": [
      {
       "metadata": {},
       "output_type": "pyout",
       "prompt_number": 35,
       "text": [
        "Index([u'\ubcd1\ub85d\ubc88\ud638', u'\uc774\ub984', u'\ub0a0\uc9dc', u'P1', u'P2', u'P3', u'P4', u'P5', u'P6', u'P7', u'N1', u'N2', u'N3', u'N4', u'N5', u'N6', u'N7', u'G1', u'G2', u'G3', u'G4', u'G5', u'G6', u'G7', u'G8', u'G9', u'G10', u'G11', u'G12', u'G13', u'G14', u'G15', u'G16', u'PSP10', u'PSP20', u'PSP30', u'PSP40', u'PSP50', u'PSN10', u'PSN20', u'PSN30', u'PSN40', u'PSN50', u'PSN60', u'PSD10', u'PSD20', u'PSD30', u'PSD40', u'PSG10', u'PSG20', u'PSG30', u'PSG40', u'PSPTOT0', u'PSNTOT0', u'PSDTOT0', u'PSGTOT0', u'SIPSTOT0', u'AS1_10', u'AS1_20', u'AS1_30', u'AS1_40', u'AS2_10', u'AS2_20', u'AS3_10', u'AS3_20', u'AS3_30', u'AS4_10', u'AS4_20', u'AS4_30', u'AS5_10', u'AS5_20', u'AS5_30', u'AS5_40', u'AS6_10', u'AS6_20', u'AS6_30', u'AS6_40', u'AS7_10', u'AS7_20', u'AS7_30', u'AS7_40', u'AS7_50', u'AS7_60', u'AS7_70', u'AS7_80', u'AS1TOT0', u'AS2TOT0', u'AS3TOT0', u'AS4TOT0', u'AS5TOT0', u'AS6TOT0', u'AS7TOT0', u'CAARMSTOT0', u'SAPS_\ud658\uac010', u'SAPS_\ub9dd\uc0c10', u'SAPS_\uad34\uc774\ud55c\ud589\ub3d90', u'SAPS_\uc591\uc131\uc801\uc0ac\uace00', u'SAPStot0', u'SANS_\uc815\ub3d9\ub454\ub9c80', u'SANS_\ub9d0\uc5c6\uc74c0', u'SANS_\ubb34\uc758\uc6950', u'SANS_\ubb34\ucf8c\uac100', u'SANS_\uc8fc\uc758\ub8250', u'SANStot0', u'GAF', u'GAFpastyr0', u'GAFpremorbid0', u'SOFASpresent0', u'SOFASpastyr0', u'SOFASpremorbid0', u'HAMA0', u'HAMD', u'YMS', u'CGI', u'BPRS0', u'\uc785\ub825\uc790'], dtype=object)"
       ]
      }
     ],
     "prompt_number": 35
    }
   ],
   "metadata": {}
  }
 ]
}